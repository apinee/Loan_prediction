{
  "nbformat": 4,
  "nbformat_minor": 0,
  "metadata": {
    "colab": {
      "provenance": [],
      "include_colab_link": true
    },
    "kernelspec": {
      "name": "python3",
      "display_name": "Python 3"
    },
    "language_info": {
      "name": "python"
    }
  },
  "cells": [
    {
      "cell_type": "markdown",
      "metadata": {
        "id": "view-in-github",
        "colab_type": "text"
      },
      "source": [
        "<a href=\"https://colab.research.google.com/github/apinee/Loan_prediction/blob/main/LOAN_PREDICTION_.ipynb\" target=\"_parent\"><img src=\"https://colab.research.google.com/assets/colab-badge.svg\" alt=\"Open In Colab\"/></a>"
      ]
    },
    {
      "cell_type": "code",
      "execution_count": null,
      "metadata": {
        "colab": {
          "base_uri": "https://localhost:8080/",
          "height": 90
        },
        "id": "ELUTApZGx4PX",
        "outputId": "c861bad6-3c94-4c51-f5b0-7fac8b5617bb"
      },
      "outputs": [
        {
          "output_type": "display_data",
          "data": {
            "text/plain": [
              "<IPython.core.display.HTML object>"
            ],
            "text/html": [
              "\n",
              "     <input type=\"file\" id=\"files-67c9f081-5dbd-4076-b3df-c00c9da5528f\" name=\"files[]\" multiple disabled\n",
              "        style=\"border:none\" />\n",
              "     <output id=\"result-67c9f081-5dbd-4076-b3df-c00c9da5528f\">\n",
              "      Upload widget is only available when the cell has been executed in the\n",
              "      current browser session. Please rerun this cell to enable.\n",
              "      </output>\n",
              "      <script>// Copyright 2017 Google LLC\n",
              "//\n",
              "// Licensed under the Apache License, Version 2.0 (the \"License\");\n",
              "// you may not use this file except in compliance with the License.\n",
              "// You may obtain a copy of the License at\n",
              "//\n",
              "//      http://www.apache.org/licenses/LICENSE-2.0\n",
              "//\n",
              "// Unless required by applicable law or agreed to in writing, software\n",
              "// distributed under the License is distributed on an \"AS IS\" BASIS,\n",
              "// WITHOUT WARRANTIES OR CONDITIONS OF ANY KIND, either express or implied.\n",
              "// See the License for the specific language governing permissions and\n",
              "// limitations under the License.\n",
              "\n",
              "/**\n",
              " * @fileoverview Helpers for google.colab Python module.\n",
              " */\n",
              "(function(scope) {\n",
              "function span(text, styleAttributes = {}) {\n",
              "  const element = document.createElement('span');\n",
              "  element.textContent = text;\n",
              "  for (const key of Object.keys(styleAttributes)) {\n",
              "    element.style[key] = styleAttributes[key];\n",
              "  }\n",
              "  return element;\n",
              "}\n",
              "\n",
              "// Max number of bytes which will be uploaded at a time.\n",
              "const MAX_PAYLOAD_SIZE = 100 * 1024;\n",
              "\n",
              "function _uploadFiles(inputId, outputId) {\n",
              "  const steps = uploadFilesStep(inputId, outputId);\n",
              "  const outputElement = document.getElementById(outputId);\n",
              "  // Cache steps on the outputElement to make it available for the next call\n",
              "  // to uploadFilesContinue from Python.\n",
              "  outputElement.steps = steps;\n",
              "\n",
              "  return _uploadFilesContinue(outputId);\n",
              "}\n",
              "\n",
              "// This is roughly an async generator (not supported in the browser yet),\n",
              "// where there are multiple asynchronous steps and the Python side is going\n",
              "// to poll for completion of each step.\n",
              "// This uses a Promise to block the python side on completion of each step,\n",
              "// then passes the result of the previous step as the input to the next step.\n",
              "function _uploadFilesContinue(outputId) {\n",
              "  const outputElement = document.getElementById(outputId);\n",
              "  const steps = outputElement.steps;\n",
              "\n",
              "  const next = steps.next(outputElement.lastPromiseValue);\n",
              "  return Promise.resolve(next.value.promise).then((value) => {\n",
              "    // Cache the last promise value to make it available to the next\n",
              "    // step of the generator.\n",
              "    outputElement.lastPromiseValue = value;\n",
              "    return next.value.response;\n",
              "  });\n",
              "}\n",
              "\n",
              "/**\n",
              " * Generator function which is called between each async step of the upload\n",
              " * process.\n",
              " * @param {string} inputId Element ID of the input file picker element.\n",
              " * @param {string} outputId Element ID of the output display.\n",
              " * @return {!Iterable<!Object>} Iterable of next steps.\n",
              " */\n",
              "function* uploadFilesStep(inputId, outputId) {\n",
              "  const inputElement = document.getElementById(inputId);\n",
              "  inputElement.disabled = false;\n",
              "\n",
              "  const outputElement = document.getElementById(outputId);\n",
              "  outputElement.innerHTML = '';\n",
              "\n",
              "  const pickedPromise = new Promise((resolve) => {\n",
              "    inputElement.addEventListener('change', (e) => {\n",
              "      resolve(e.target.files);\n",
              "    });\n",
              "  });\n",
              "\n",
              "  const cancel = document.createElement('button');\n",
              "  inputElement.parentElement.appendChild(cancel);\n",
              "  cancel.textContent = 'Cancel upload';\n",
              "  const cancelPromise = new Promise((resolve) => {\n",
              "    cancel.onclick = () => {\n",
              "      resolve(null);\n",
              "    };\n",
              "  });\n",
              "\n",
              "  // Wait for the user to pick the files.\n",
              "  const files = yield {\n",
              "    promise: Promise.race([pickedPromise, cancelPromise]),\n",
              "    response: {\n",
              "      action: 'starting',\n",
              "    }\n",
              "  };\n",
              "\n",
              "  cancel.remove();\n",
              "\n",
              "  // Disable the input element since further picks are not allowed.\n",
              "  inputElement.disabled = true;\n",
              "\n",
              "  if (!files) {\n",
              "    return {\n",
              "      response: {\n",
              "        action: 'complete',\n",
              "      }\n",
              "    };\n",
              "  }\n",
              "\n",
              "  for (const file of files) {\n",
              "    const li = document.createElement('li');\n",
              "    li.append(span(file.name, {fontWeight: 'bold'}));\n",
              "    li.append(span(\n",
              "        `(${file.type || 'n/a'}) - ${file.size} bytes, ` +\n",
              "        `last modified: ${\n",
              "            file.lastModifiedDate ? file.lastModifiedDate.toLocaleDateString() :\n",
              "                                    'n/a'} - `));\n",
              "    const percent = span('0% done');\n",
              "    li.appendChild(percent);\n",
              "\n",
              "    outputElement.appendChild(li);\n",
              "\n",
              "    const fileDataPromise = new Promise((resolve) => {\n",
              "      const reader = new FileReader();\n",
              "      reader.onload = (e) => {\n",
              "        resolve(e.target.result);\n",
              "      };\n",
              "      reader.readAsArrayBuffer(file);\n",
              "    });\n",
              "    // Wait for the data to be ready.\n",
              "    let fileData = yield {\n",
              "      promise: fileDataPromise,\n",
              "      response: {\n",
              "        action: 'continue',\n",
              "      }\n",
              "    };\n",
              "\n",
              "    // Use a chunked sending to avoid message size limits. See b/62115660.\n",
              "    let position = 0;\n",
              "    do {\n",
              "      const length = Math.min(fileData.byteLength - position, MAX_PAYLOAD_SIZE);\n",
              "      const chunk = new Uint8Array(fileData, position, length);\n",
              "      position += length;\n",
              "\n",
              "      const base64 = btoa(String.fromCharCode.apply(null, chunk));\n",
              "      yield {\n",
              "        response: {\n",
              "          action: 'append',\n",
              "          file: file.name,\n",
              "          data: base64,\n",
              "        },\n",
              "      };\n",
              "\n",
              "      let percentDone = fileData.byteLength === 0 ?\n",
              "          100 :\n",
              "          Math.round((position / fileData.byteLength) * 100);\n",
              "      percent.textContent = `${percentDone}% done`;\n",
              "\n",
              "    } while (position < fileData.byteLength);\n",
              "  }\n",
              "\n",
              "  // All done.\n",
              "  yield {\n",
              "    response: {\n",
              "      action: 'complete',\n",
              "    }\n",
              "  };\n",
              "}\n",
              "\n",
              "scope.google = scope.google || {};\n",
              "scope.google.colab = scope.google.colab || {};\n",
              "scope.google.colab._files = {\n",
              "  _uploadFiles,\n",
              "  _uploadFilesContinue,\n",
              "};\n",
              "})(self);\n",
              "</script> "
            ]
          },
          "metadata": {}
        },
        {
          "output_type": "stream",
          "name": "stdout",
          "text": [
            "Saving kaggle_2.json to kaggle_2 (1).json\n"
          ]
        },
        {
          "output_type": "execute_result",
          "data": {
            "text/plain": [
              "{'kaggle_2 (1).json': b'{\"username\":\"jhaapoorva\",\"key\":\"410509380d70f33c4322044e56759a84\"}'}"
            ]
          },
          "metadata": {},
          "execution_count": 2
        }
      ],
      "source": [
        "from google.colab import files\n",
        "files.upload()  # Upload the kaggle.json file"
      ]
    },
    {
      "cell_type": "code",
      "source": [
        "# prompt: write the !mkdir -p ~/.kaggle\n",
        "# !cp kaggle.json ~/.kaggle/\n",
        "# but for file kaggle_2.json\n",
        "\n",
        "!mkdir -p ~/.kaggle\n",
        "!cp kaggle_2.json ~/.kaggle/\n"
      ],
      "metadata": {
        "id": "KBfXTF7czF3x"
      },
      "execution_count": null,
      "outputs": []
    },
    {
      "cell_type": "code",
      "source": [
        "!chmod 600 ~/.kaggle/kaggle_2.json\n"
      ],
      "metadata": {
        "id": "P2uuEq2UzqvD"
      },
      "execution_count": null,
      "outputs": []
    },
    {
      "cell_type": "code",
      "source": [
        "# Replace 'dataset-owner/dataset-name' with the specific dataset you need\n",
        "!kaggle datasets download -d architsharma01/loan-approval-prediction-dataset\n"
      ],
      "metadata": {
        "colab": {
          "base_uri": "https://localhost:8080/"
        },
        "id": "rNP21fgLzxx6",
        "outputId": "106486f9-cfb4-4137-f5cc-083376e14785"
      },
      "execution_count": null,
      "outputs": [
        {
          "output_type": "stream",
          "name": "stdout",
          "text": [
            "Dataset URL: https://www.kaggle.com/datasets/architsharma01/loan-approval-prediction-dataset\n",
            "License(s): MIT\n",
            "Downloading loan-approval-prediction-dataset.zip to /content\n",
            "  0% 0.00/80.6k [00:00<?, ?B/s]\n",
            "100% 80.6k/80.6k [00:00<00:00, 72.9MB/s]\n"
          ]
        }
      ]
    },
    {
      "cell_type": "code",
      "source": [
        "import zipfile\n",
        "\n",
        "# Replace 'dataset.zip' with the actual zip file name\n",
        "with zipfile.ZipFile('/content/loan-approval-prediction-dataset.zip', 'r') as zip_ref:\n",
        "    zip_ref.extractall('loan-approval-prediction-dataset')\n"
      ],
      "metadata": {
        "id": "biNQpdGe0GG8"
      },
      "execution_count": null,
      "outputs": []
    },
    {
      "cell_type": "code",
      "source": [
        "import numpy as np\n",
        "import pandas as pd\n",
        "import matplotlib.pyplot as plt\n",
        "import seaborn as sns\n",
        "import math\n",
        "\n",
        "import warnings\n",
        "warnings.filterwarnings(\"ignore\")\n"
      ],
      "metadata": {
        "id": "sQJ2RK9g0VSD"
      },
      "execution_count": null,
      "outputs": []
    },
    {
      "cell_type": "code",
      "source": [
        "df = pd.read_csv(\"/content/loan-approval-prediction-dataset/loan_approval_dataset.csv\")\n",
        "df.head()\n"
      ],
      "metadata": {
        "colab": {
          "base_uri": "https://localhost:8080/"
        },
        "id": "CiyXcMO30hly",
        "outputId": "bfbb0088-e1b0-4574-8dea-1fb514af0cbf"
      },
      "execution_count": null,
      "outputs": [
        {
          "output_type": "execute_result",
          "data": {
            "text/plain": [
              "   loan_id   no_of_dependents      education  self_employed   income_annum  \\\n",
              "0        1                  2       Graduate             No        9600000   \n",
              "1        2                  0   Not Graduate            Yes        4100000   \n",
              "2        3                  3       Graduate             No        9100000   \n",
              "3        4                  3       Graduate             No        8200000   \n",
              "4        5                  5   Not Graduate            Yes        9800000   \n",
              "\n",
              "    loan_amount   loan_term   cibil_score   residential_assets_value  \\\n",
              "0      29900000          12           778                    2400000   \n",
              "1      12200000           8           417                    2700000   \n",
              "2      29700000          20           506                    7100000   \n",
              "3      30700000           8           467                   18200000   \n",
              "4      24200000          20           382                   12400000   \n",
              "\n",
              "    commercial_assets_value   luxury_assets_value   bank_asset_value  \\\n",
              "0                  17600000              22700000            8000000   \n",
              "1                   2200000               8800000            3300000   \n",
              "2                   4500000              33300000           12800000   \n",
              "3                   3300000              23300000            7900000   \n",
              "4                   8200000              29400000            5000000   \n",
              "\n",
              "   loan_status  \n",
              "0     Approved  \n",
              "1     Rejected  \n",
              "2     Rejected  \n",
              "3     Rejected  \n",
              "4     Rejected  "
            ],
            "text/html": [
              "\n",
              "  <div id=\"df-54001a3a-791d-47a3-8e67-fd8bfd74d3cd\" class=\"colab-df-container\">\n",
              "    <div>\n",
              "<style scoped>\n",
              "    .dataframe tbody tr th:only-of-type {\n",
              "        vertical-align: middle;\n",
              "    }\n",
              "\n",
              "    .dataframe tbody tr th {\n",
              "        vertical-align: top;\n",
              "    }\n",
              "\n",
              "    .dataframe thead th {\n",
              "        text-align: right;\n",
              "    }\n",
              "</style>\n",
              "<table border=\"1\" class=\"dataframe\">\n",
              "  <thead>\n",
              "    <tr style=\"text-align: right;\">\n",
              "      <th></th>\n",
              "      <th>loan_id</th>\n",
              "      <th>no_of_dependents</th>\n",
              "      <th>education</th>\n",
              "      <th>self_employed</th>\n",
              "      <th>income_annum</th>\n",
              "      <th>loan_amount</th>\n",
              "      <th>loan_term</th>\n",
              "      <th>cibil_score</th>\n",
              "      <th>residential_assets_value</th>\n",
              "      <th>commercial_assets_value</th>\n",
              "      <th>luxury_assets_value</th>\n",
              "      <th>bank_asset_value</th>\n",
              "      <th>loan_status</th>\n",
              "    </tr>\n",
              "  </thead>\n",
              "  <tbody>\n",
              "    <tr>\n",
              "      <th>0</th>\n",
              "      <td>1</td>\n",
              "      <td>2</td>\n",
              "      <td>Graduate</td>\n",
              "      <td>No</td>\n",
              "      <td>9600000</td>\n",
              "      <td>29900000</td>\n",
              "      <td>12</td>\n",
              "      <td>778</td>\n",
              "      <td>2400000</td>\n",
              "      <td>17600000</td>\n",
              "      <td>22700000</td>\n",
              "      <td>8000000</td>\n",
              "      <td>Approved</td>\n",
              "    </tr>\n",
              "    <tr>\n",
              "      <th>1</th>\n",
              "      <td>2</td>\n",
              "      <td>0</td>\n",
              "      <td>Not Graduate</td>\n",
              "      <td>Yes</td>\n",
              "      <td>4100000</td>\n",
              "      <td>12200000</td>\n",
              "      <td>8</td>\n",
              "      <td>417</td>\n",
              "      <td>2700000</td>\n",
              "      <td>2200000</td>\n",
              "      <td>8800000</td>\n",
              "      <td>3300000</td>\n",
              "      <td>Rejected</td>\n",
              "    </tr>\n",
              "    <tr>\n",
              "      <th>2</th>\n",
              "      <td>3</td>\n",
              "      <td>3</td>\n",
              "      <td>Graduate</td>\n",
              "      <td>No</td>\n",
              "      <td>9100000</td>\n",
              "      <td>29700000</td>\n",
              "      <td>20</td>\n",
              "      <td>506</td>\n",
              "      <td>7100000</td>\n",
              "      <td>4500000</td>\n",
              "      <td>33300000</td>\n",
              "      <td>12800000</td>\n",
              "      <td>Rejected</td>\n",
              "    </tr>\n",
              "    <tr>\n",
              "      <th>3</th>\n",
              "      <td>4</td>\n",
              "      <td>3</td>\n",
              "      <td>Graduate</td>\n",
              "      <td>No</td>\n",
              "      <td>8200000</td>\n",
              "      <td>30700000</td>\n",
              "      <td>8</td>\n",
              "      <td>467</td>\n",
              "      <td>18200000</td>\n",
              "      <td>3300000</td>\n",
              "      <td>23300000</td>\n",
              "      <td>7900000</td>\n",
              "      <td>Rejected</td>\n",
              "    </tr>\n",
              "    <tr>\n",
              "      <th>4</th>\n",
              "      <td>5</td>\n",
              "      <td>5</td>\n",
              "      <td>Not Graduate</td>\n",
              "      <td>Yes</td>\n",
              "      <td>9800000</td>\n",
              "      <td>24200000</td>\n",
              "      <td>20</td>\n",
              "      <td>382</td>\n",
              "      <td>12400000</td>\n",
              "      <td>8200000</td>\n",
              "      <td>29400000</td>\n",
              "      <td>5000000</td>\n",
              "      <td>Rejected</td>\n",
              "    </tr>\n",
              "  </tbody>\n",
              "</table>\n",
              "</div>\n",
              "    <div class=\"colab-df-buttons\">\n",
              "\n",
              "  <div class=\"colab-df-container\">\n",
              "    <button class=\"colab-df-convert\" onclick=\"convertToInteractive('df-54001a3a-791d-47a3-8e67-fd8bfd74d3cd')\"\n",
              "            title=\"Convert this dataframe to an interactive table.\"\n",
              "            style=\"display:none;\">\n",
              "\n",
              "  <svg xmlns=\"http://www.w3.org/2000/svg\" height=\"24px\" viewBox=\"0 -960 960 960\">\n",
              "    <path d=\"M120-120v-720h720v720H120Zm60-500h600v-160H180v160Zm220 220h160v-160H400v160Zm0 220h160v-160H400v160ZM180-400h160v-160H180v160Zm440 0h160v-160H620v160ZM180-180h160v-160H180v160Zm440 0h160v-160H620v160Z\"/>\n",
              "  </svg>\n",
              "    </button>\n",
              "\n",
              "  <style>\n",
              "    .colab-df-container {\n",
              "      display:flex;\n",
              "      gap: 12px;\n",
              "    }\n",
              "\n",
              "    .colab-df-convert {\n",
              "      background-color: #E8F0FE;\n",
              "      border: none;\n",
              "      border-radius: 50%;\n",
              "      cursor: pointer;\n",
              "      display: none;\n",
              "      fill: #1967D2;\n",
              "      height: 32px;\n",
              "      padding: 0 0 0 0;\n",
              "      width: 32px;\n",
              "    }\n",
              "\n",
              "    .colab-df-convert:hover {\n",
              "      background-color: #E2EBFA;\n",
              "      box-shadow: 0px 1px 2px rgba(60, 64, 67, 0.3), 0px 1px 3px 1px rgba(60, 64, 67, 0.15);\n",
              "      fill: #174EA6;\n",
              "    }\n",
              "\n",
              "    .colab-df-buttons div {\n",
              "      margin-bottom: 4px;\n",
              "    }\n",
              "\n",
              "    [theme=dark] .colab-df-convert {\n",
              "      background-color: #3B4455;\n",
              "      fill: #D2E3FC;\n",
              "    }\n",
              "\n",
              "    [theme=dark] .colab-df-convert:hover {\n",
              "      background-color: #434B5C;\n",
              "      box-shadow: 0px 1px 3px 1px rgba(0, 0, 0, 0.15);\n",
              "      filter: drop-shadow(0px 1px 2px rgba(0, 0, 0, 0.3));\n",
              "      fill: #FFFFFF;\n",
              "    }\n",
              "  </style>\n",
              "\n",
              "    <script>\n",
              "      const buttonEl =\n",
              "        document.querySelector('#df-54001a3a-791d-47a3-8e67-fd8bfd74d3cd button.colab-df-convert');\n",
              "      buttonEl.style.display =\n",
              "        google.colab.kernel.accessAllowed ? 'block' : 'none';\n",
              "\n",
              "      async function convertToInteractive(key) {\n",
              "        const element = document.querySelector('#df-54001a3a-791d-47a3-8e67-fd8bfd74d3cd');\n",
              "        const dataTable =\n",
              "          await google.colab.kernel.invokeFunction('convertToInteractive',\n",
              "                                                    [key], {});\n",
              "        if (!dataTable) return;\n",
              "\n",
              "        const docLinkHtml = 'Like what you see? Visit the ' +\n",
              "          '<a target=\"_blank\" href=https://colab.research.google.com/notebooks/data_table.ipynb>data table notebook</a>'\n",
              "          + ' to learn more about interactive tables.';\n",
              "        element.innerHTML = '';\n",
              "        dataTable['output_type'] = 'display_data';\n",
              "        await google.colab.output.renderOutput(dataTable, element);\n",
              "        const docLink = document.createElement('div');\n",
              "        docLink.innerHTML = docLinkHtml;\n",
              "        element.appendChild(docLink);\n",
              "      }\n",
              "    </script>\n",
              "  </div>\n",
              "\n",
              "\n",
              "<div id=\"df-34c75756-1458-4f6b-a4a6-7f67a777772b\">\n",
              "  <button class=\"colab-df-quickchart\" onclick=\"quickchart('df-34c75756-1458-4f6b-a4a6-7f67a777772b')\"\n",
              "            title=\"Suggest charts\"\n",
              "            style=\"display:none;\">\n",
              "\n",
              "<svg xmlns=\"http://www.w3.org/2000/svg\" height=\"24px\"viewBox=\"0 0 24 24\"\n",
              "     width=\"24px\">\n",
              "    <g>\n",
              "        <path d=\"M19 3H5c-1.1 0-2 .9-2 2v14c0 1.1.9 2 2 2h14c1.1 0 2-.9 2-2V5c0-1.1-.9-2-2-2zM9 17H7v-7h2v7zm4 0h-2V7h2v10zm4 0h-2v-4h2v4z\"/>\n",
              "    </g>\n",
              "</svg>\n",
              "  </button>\n",
              "\n",
              "<style>\n",
              "  .colab-df-quickchart {\n",
              "      --bg-color: #E8F0FE;\n",
              "      --fill-color: #1967D2;\n",
              "      --hover-bg-color: #E2EBFA;\n",
              "      --hover-fill-color: #174EA6;\n",
              "      --disabled-fill-color: #AAA;\n",
              "      --disabled-bg-color: #DDD;\n",
              "  }\n",
              "\n",
              "  [theme=dark] .colab-df-quickchart {\n",
              "      --bg-color: #3B4455;\n",
              "      --fill-color: #D2E3FC;\n",
              "      --hover-bg-color: #434B5C;\n",
              "      --hover-fill-color: #FFFFFF;\n",
              "      --disabled-bg-color: #3B4455;\n",
              "      --disabled-fill-color: #666;\n",
              "  }\n",
              "\n",
              "  .colab-df-quickchart {\n",
              "    background-color: var(--bg-color);\n",
              "    border: none;\n",
              "    border-radius: 50%;\n",
              "    cursor: pointer;\n",
              "    display: none;\n",
              "    fill: var(--fill-color);\n",
              "    height: 32px;\n",
              "    padding: 0;\n",
              "    width: 32px;\n",
              "  }\n",
              "\n",
              "  .colab-df-quickchart:hover {\n",
              "    background-color: var(--hover-bg-color);\n",
              "    box-shadow: 0 1px 2px rgba(60, 64, 67, 0.3), 0 1px 3px 1px rgba(60, 64, 67, 0.15);\n",
              "    fill: var(--button-hover-fill-color);\n",
              "  }\n",
              "\n",
              "  .colab-df-quickchart-complete:disabled,\n",
              "  .colab-df-quickchart-complete:disabled:hover {\n",
              "    background-color: var(--disabled-bg-color);\n",
              "    fill: var(--disabled-fill-color);\n",
              "    box-shadow: none;\n",
              "  }\n",
              "\n",
              "  .colab-df-spinner {\n",
              "    border: 2px solid var(--fill-color);\n",
              "    border-color: transparent;\n",
              "    border-bottom-color: var(--fill-color);\n",
              "    animation:\n",
              "      spin 1s steps(1) infinite;\n",
              "  }\n",
              "\n",
              "  @keyframes spin {\n",
              "    0% {\n",
              "      border-color: transparent;\n",
              "      border-bottom-color: var(--fill-color);\n",
              "      border-left-color: var(--fill-color);\n",
              "    }\n",
              "    20% {\n",
              "      border-color: transparent;\n",
              "      border-left-color: var(--fill-color);\n",
              "      border-top-color: var(--fill-color);\n",
              "    }\n",
              "    30% {\n",
              "      border-color: transparent;\n",
              "      border-left-color: var(--fill-color);\n",
              "      border-top-color: var(--fill-color);\n",
              "      border-right-color: var(--fill-color);\n",
              "    }\n",
              "    40% {\n",
              "      border-color: transparent;\n",
              "      border-right-color: var(--fill-color);\n",
              "      border-top-color: var(--fill-color);\n",
              "    }\n",
              "    60% {\n",
              "      border-color: transparent;\n",
              "      border-right-color: var(--fill-color);\n",
              "    }\n",
              "    80% {\n",
              "      border-color: transparent;\n",
              "      border-right-color: var(--fill-color);\n",
              "      border-bottom-color: var(--fill-color);\n",
              "    }\n",
              "    90% {\n",
              "      border-color: transparent;\n",
              "      border-bottom-color: var(--fill-color);\n",
              "    }\n",
              "  }\n",
              "</style>\n",
              "\n",
              "  <script>\n",
              "    async function quickchart(key) {\n",
              "      const quickchartButtonEl =\n",
              "        document.querySelector('#' + key + ' button');\n",
              "      quickchartButtonEl.disabled = true;  // To prevent multiple clicks.\n",
              "      quickchartButtonEl.classList.add('colab-df-spinner');\n",
              "      try {\n",
              "        const charts = await google.colab.kernel.invokeFunction(\n",
              "            'suggestCharts', [key], {});\n",
              "      } catch (error) {\n",
              "        console.error('Error during call to suggestCharts:', error);\n",
              "      }\n",
              "      quickchartButtonEl.classList.remove('colab-df-spinner');\n",
              "      quickchartButtonEl.classList.add('colab-df-quickchart-complete');\n",
              "    }\n",
              "    (() => {\n",
              "      let quickchartButtonEl =\n",
              "        document.querySelector('#df-34c75756-1458-4f6b-a4a6-7f67a777772b button');\n",
              "      quickchartButtonEl.style.display =\n",
              "        google.colab.kernel.accessAllowed ? 'block' : 'none';\n",
              "    })();\n",
              "  </script>\n",
              "</div>\n",
              "\n",
              "    </div>\n",
              "  </div>\n"
            ],
            "application/vnd.google.colaboratory.intrinsic+json": {
              "type": "dataframe",
              "variable_name": "df",
              "summary": "{\n  \"name\": \"df\",\n  \"rows\": 4269,\n  \"fields\": [\n    {\n      \"column\": \"loan_id\",\n      \"properties\": {\n        \"dtype\": \"number\",\n        \"std\": 1232,\n        \"min\": 1,\n        \"max\": 4269,\n        \"num_unique_values\": 4269,\n        \"samples\": [\n          1704,\n          1174,\n          309\n        ],\n        \"semantic_type\": \"\",\n        \"description\": \"\"\n      }\n    },\n    {\n      \"column\": \" no_of_dependents\",\n      \"properties\": {\n        \"dtype\": \"number\",\n        \"std\": 1,\n        \"min\": 0,\n        \"max\": 5,\n        \"num_unique_values\": 6,\n        \"samples\": [\n          2,\n          0,\n          1\n        ],\n        \"semantic_type\": \"\",\n        \"description\": \"\"\n      }\n    },\n    {\n      \"column\": \" education\",\n      \"properties\": {\n        \"dtype\": \"category\",\n        \"num_unique_values\": 2,\n        \"samples\": [\n          \" Not Graduate\",\n          \" Graduate\"\n        ],\n        \"semantic_type\": \"\",\n        \"description\": \"\"\n      }\n    },\n    {\n      \"column\": \" self_employed\",\n      \"properties\": {\n        \"dtype\": \"category\",\n        \"num_unique_values\": 2,\n        \"samples\": [\n          \" Yes\",\n          \" No\"\n        ],\n        \"semantic_type\": \"\",\n        \"description\": \"\"\n      }\n    },\n    {\n      \"column\": \" income_annum\",\n      \"properties\": {\n        \"dtype\": \"number\",\n        \"std\": 2806839,\n        \"min\": 200000,\n        \"max\": 9900000,\n        \"num_unique_values\": 98,\n        \"samples\": [\n          6200000,\n          9300000\n        ],\n        \"semantic_type\": \"\",\n        \"description\": \"\"\n      }\n    },\n    {\n      \"column\": \" loan_amount\",\n      \"properties\": {\n        \"dtype\": \"number\",\n        \"std\": 9043362,\n        \"min\": 300000,\n        \"max\": 39500000,\n        \"num_unique_values\": 378,\n        \"samples\": [\n          25800000,\n          26100000\n        ],\n        \"semantic_type\": \"\",\n        \"description\": \"\"\n      }\n    },\n    {\n      \"column\": \" loan_term\",\n      \"properties\": {\n        \"dtype\": \"number\",\n        \"std\": 5,\n        \"min\": 2,\n        \"max\": 20,\n        \"num_unique_values\": 10,\n        \"samples\": [\n          14,\n          8\n        ],\n        \"semantic_type\": \"\",\n        \"description\": \"\"\n      }\n    },\n    {\n      \"column\": \" cibil_score\",\n      \"properties\": {\n        \"dtype\": \"number\",\n        \"std\": 172,\n        \"min\": 300,\n        \"max\": 900,\n        \"num_unique_values\": 601,\n        \"samples\": [\n          859,\n          414\n        ],\n        \"semantic_type\": \"\",\n        \"description\": \"\"\n      }\n    },\n    {\n      \"column\": \" residential_assets_value\",\n      \"properties\": {\n        \"dtype\": \"number\",\n        \"std\": 6503636,\n        \"min\": -100000,\n        \"max\": 29100000,\n        \"num_unique_values\": 278,\n        \"samples\": [\n          700000,\n          3500000\n        ],\n        \"semantic_type\": \"\",\n        \"description\": \"\"\n      }\n    },\n    {\n      \"column\": \" commercial_assets_value\",\n      \"properties\": {\n        \"dtype\": \"number\",\n        \"std\": 4388966,\n        \"min\": 0,\n        \"max\": 19400000,\n        \"num_unique_values\": 188,\n        \"samples\": [\n          13500000,\n          14600000\n        ],\n        \"semantic_type\": \"\",\n        \"description\": \"\"\n      }\n    },\n    {\n      \"column\": \" luxury_assets_value\",\n      \"properties\": {\n        \"dtype\": \"number\",\n        \"std\": 9103753,\n        \"min\": 300000,\n        \"max\": 39200000,\n        \"num_unique_values\": 379,\n        \"samples\": [\n          15300000,\n          12100000\n        ],\n        \"semantic_type\": \"\",\n        \"description\": \"\"\n      }\n    },\n    {\n      \"column\": \" bank_asset_value\",\n      \"properties\": {\n        \"dtype\": \"number\",\n        \"std\": 3250185,\n        \"min\": 0,\n        \"max\": 14700000,\n        \"num_unique_values\": 146,\n        \"samples\": [\n          4800000,\n          14400000\n        ],\n        \"semantic_type\": \"\",\n        \"description\": \"\"\n      }\n    },\n    {\n      \"column\": \" loan_status\",\n      \"properties\": {\n        \"dtype\": \"category\",\n        \"num_unique_values\": 2,\n        \"samples\": [\n          \" Rejected\",\n          \" Approved\"\n        ],\n        \"semantic_type\": \"\",\n        \"description\": \"\"\n      }\n    }\n  ]\n}"
            }
          },
          "metadata": {},
          "execution_count": 8
        }
      ]
    },
    {
      "cell_type": "code",
      "source": [
        "print(df.columns)\n"
      ],
      "metadata": {
        "colab": {
          "base_uri": "https://localhost:8080/"
        },
        "id": "o7EaEPE-TZO-",
        "outputId": "1b5867e3-29a3-40ba-b424-e4594c8d9d08"
      },
      "execution_count": null,
      "outputs": [
        {
          "output_type": "stream",
          "name": "stdout",
          "text": [
            "Index(['loan_id', ' no_of_dependents', ' education', ' self_employed',\n",
            "       ' income_annum', ' loan_amount', ' loan_term', ' cibil_score',\n",
            "       ' residential_assets_value', ' commercial_assets_value',\n",
            "       ' luxury_assets_value', ' bank_asset_value', ' loan_status'],\n",
            "      dtype='object')\n"
          ]
        }
      ]
    },
    {
      "cell_type": "code",
      "source": [
        "df.shape"
      ],
      "metadata": {
        "colab": {
          "base_uri": "https://localhost:8080/"
        },
        "id": "vCP54cM4cq6S",
        "outputId": "94b485d3-ff57-48cf-a029-c4d3f859ff03"
      },
      "execution_count": null,
      "outputs": [
        {
          "output_type": "execute_result",
          "data": {
            "text/plain": [
              "(4269, 13)"
            ]
          },
          "metadata": {},
          "execution_count": 10
        }
      ]
    },
    {
      "source": [
        "# @title  loan_amount\n",
        "\n",
        "from matplotlib import pyplot as plt\n",
        "df[' loan_amount'].plot(kind='hist', bins=20, title=' loan_amount')\n",
        "plt.gca().spines[['top', 'right',]].set_visible(False)"
      ],
      "cell_type": "code",
      "execution_count": null,
      "outputs": [
        {
          "output_type": "display_data",
          "data": {
            "text/plain": [
              "<Figure size 640x480 with 1 Axes>"
            ],
            "image/png": "[encoded data removed]"
          },
          "metadata": {}
        }
      ],
      "metadata": {
        "colab": {
          "base_uri": "https://localhost:8080/"
        },
        "id": "uuGZsB411aVW",
        "outputId": "3710fe27-3395-4a44-fece-8180b1af644e"
      }
    },
    {
      "source": [
        "# @title  education\n",
        "\n",
        "from matplotlib import pyplot as plt\n",
        "import seaborn as sns\n",
        "df.groupby(' education').size().plot(kind='barh', color=sns.palettes.mpl_palette('Dark2'))\n",
        "plt.gca().spines[['top', 'right',]].set_visible(False)"
      ],
      "cell_type": "code",
      "execution_count": null,
      "outputs": [
        {
          "output_type": "display_data",
          "data": {
            "text/plain": [
              "<Figure size 640x480 with 1 Axes>"
            ],
            "image/png": "[encoded data removed]"
          },
          "metadata": {}
        }
      ],
      "metadata": {
        "colab": {
          "base_uri": "https://localhost:8080/"
        },
        "id": "8v09b_T81HBt",
        "outputId": "cc26b7d7-90b3-4f45-ac98-e9db4a1104cb"
      }
    },
    {
      "source": [
        "# @title  no_of_dependents\n",
        "\n",
        "from matplotlib import pyplot as plt\n",
        "df[' no_of_dependents'].plot(kind='hist', bins=20, title=' no_of_dependents')\n",
        "plt.gca().spines[['top', 'right',]].set_visible(False)\n"
      ],
      "cell_type": "code",
      "execution_count": null,
      "outputs": [
        {
          "output_type": "display_data",
          "data": {
            "text/plain": [
              "<Figure size 640x480 with 1 Axes>"
            ],
            "image/png": "[encoded data removed]"
          },
          "metadata": {}
        }
      ],
      "metadata": {
        "colab": {
          "base_uri": "https://localhost:8080/"
        },
        "id": "0OdXIfBV1Ape",
        "outputId": "f8de3bf1-129f-48d7-9cd0-402622938e9f"
      }
    },
    {
      "source": [
        "# @title  income_annum vs  loan_amount\n",
        "\n",
        "from matplotlib import pyplot as plt\n",
        "df.plot(kind='scatter', x=' income_annum', y=' loan_amount', s=32, alpha=.8)\n",
        "plt.gca().spines[['top', 'right',]].set_visible(False)\n"
      ],
      "cell_type": "code",
      "execution_count": null,
      "outputs": [
        {
          "output_type": "display_data",
          "data": {
            "text/plain": [
              "<Figure size 640x480 with 1 Axes>"
            ],
            "image/png": "[encoded data removed]"
          },
          "metadata": {}
        }
      ],
      "metadata": {
        "colab": {
          "base_uri": "https://localhost:8080/"
        },
        "id": "UYxFPXYj08Ry",
        "outputId": "e976c02f-e293-4318-b583-961831a6ff94"
      }
    },
    {
      "cell_type": "code",
      "source": [
        "# prompt: make a bar chart with target variable loan_status and other indepent variable.\n",
        "\n",
        "# @title loan_status vs other variables\n",
        "\n",
        "# List of independent variables you want to compare with loan_status\n",
        "independent_vars = [' education', ' self_employed', ' loan_status']\n",
        "\n",
        "# Loop through the independent variables and create bar charts\n",
        "for var in independent_vars:\n",
        "  if var != 'loan_status':\n",
        "    plt.figure(figsize=(8, 6))\n",
        "    sns.countplot(x=var, hue=' loan_status', data=df)\n",
        "    plt.title(f'Loan Status vs. {var}')\n",
        "    plt.xlabel(var)\n",
        "    plt.ylabel('Count')\n",
        "    plt.xticks(rotation=45)  # Rotate x-axis labels for better readability\n",
        "    plt.legend(title='Loan Status')\n",
        "    plt.gca().spines[['top', 'right']].set_visible(False)\n",
        "    plt.show()"
      ],
      "metadata": {
        "colab": {
          "base_uri": "https://localhost:8080/"
        },
        "id": "kQ9TTfKlgwDI",
        "outputId": "4c9eedda-ee2d-4c1c-aa1f-8a5104dc3a32"
      },
      "execution_count": null,
      "outputs": [
        {
          "output_type": "display_data",
          "data": {
            "text/plain": [
              "<Figure size 800x600 with 1 Axes>"
            ],
            "image/png": "[encoded data removed]"
          },
          "metadata": {}
        },
        {
          "output_type": "display_data",
          "data": {
            "text/plain": [
              "<Figure size 800x600 with 1 Axes>"
            ],
            "image/png": "[encoded data removed]"
          },
          "metadata": {}
        },
        {
          "output_type": "stream",
          "name": "stderr",
          "text": [
            "WARNING:matplotlib.legend:No artists with labels found to put in legend.  Note that artists whose label start with an underscore are ignored when legend() is called with no argument.\n"
          ]
        },
        {
          "output_type": "display_data",
          "data": {
            "text/plain": [
              "<Figure size 800x600 with 1 Axes>"
            ],
            "image/png": "[encoded data removed]"
          },
          "metadata": {}
        }
      ]
    },
    {
      "cell_type": "code",
      "source": [
        "df.shape\n"
      ],
      "metadata": {
        "colab": {
          "base_uri": "https://localhost:8080/"
        },
        "id": "8cHIxOtk0u_I",
        "outputId": "61055391-6150-4c3a-91f3-b3c489677ad9"
      },
      "execution_count": null,
      "outputs": [
        {
          "output_type": "execute_result",
          "data": {
            "text/plain": [
              "(4269, 13)"
            ]
          },
          "metadata": {},
          "execution_count": 16
        }
      ]
    },
    {
      "cell_type": "code",
      "source": [
        "df.info()"
      ],
      "metadata": {
        "colab": {
          "base_uri": "https://localhost:8080/"
        },
        "id": "w68hXtKT1oqC",
        "outputId": "4e573866-cf2c-45e4-a0f5-0dca391bf484"
      },
      "execution_count": null,
      "outputs": [
        {
          "output_type": "stream",
          "name": "stdout",
          "text": [
            "<class 'pandas.core.frame.DataFrame'>\n",
            "RangeIndex: 4269 entries, 0 to 4268\n",
            "Data columns (total 13 columns):\n",
            " #   Column                     Non-Null Count  Dtype \n",
            "---  ------                     --------------  ----- \n",
            " 0   loan_id                    4269 non-null   int64 \n",
            " 1    no_of_dependents          4269 non-null   int64 \n",
            " 2    education                 4269 non-null   object\n",
            " 3    self_employed             4269 non-null   object\n",
            " 4    income_annum              4269 non-null   int64 \n",
            " 5    loan_amount               4269 non-null   int64 \n",
            " 6    loan_term                 4269 non-null   int64 \n",
            " 7    cibil_score               4269 non-null   int64 \n",
            " 8    residential_assets_value  4269 non-null   int64 \n",
            " 9    commercial_assets_value   4269 non-null   int64 \n",
            " 10   luxury_assets_value       4269 non-null   int64 \n",
            " 11   bank_asset_value          4269 non-null   int64 \n",
            " 12   loan_status               4269 non-null   object\n",
            "dtypes: int64(10), object(3)\n",
            "memory usage: 433.7+ KB\n"
          ]
        }
      ]
    },
    {
      "cell_type": "code",
      "source": [
        "df=df.drop([\"loan_id\"],axis=1)\n",
        "df.head()\n",
        "df.info()\n"
      ],
      "metadata": {
        "colab": {
          "base_uri": "https://localhost:8080/"
        },
        "id": "NnT-9VV-1t1H",
        "outputId": "ff91e609-73e7-4e0b-fe99-cef50ef677d2"
      },
      "execution_count": null,
      "outputs": [
        {
          "output_type": "stream",
          "name": "stdout",
          "text": [
            "<class 'pandas.core.frame.DataFrame'>\n",
            "RangeIndex: 4269 entries, 0 to 4268\n",
            "Data columns (total 12 columns):\n",
            " #   Column                     Non-Null Count  Dtype \n",
            "---  ------                     --------------  ----- \n",
            " 0    no_of_dependents          4269 non-null   int64 \n",
            " 1    education                 4269 non-null   object\n",
            " 2    self_employed             4269 non-null   object\n",
            " 3    income_annum              4269 non-null   int64 \n",
            " 4    loan_amount               4269 non-null   int64 \n",
            " 5    loan_term                 4269 non-null   int64 \n",
            " 6    cibil_score               4269 non-null   int64 \n",
            " 7    residential_assets_value  4269 non-null   int64 \n",
            " 8    commercial_assets_value   4269 non-null   int64 \n",
            " 9    luxury_assets_value       4269 non-null   int64 \n",
            " 10   bank_asset_value          4269 non-null   int64 \n",
            " 11   loan_status               4269 non-null   object\n",
            "dtypes: int64(9), object(3)\n",
            "memory usage: 400.3+ KB\n"
          ]
        }
      ]
    },
    {
      "cell_type": "markdown",
      "source": [
        "ENCODING THE FEATURES"
      ],
      "metadata": {
        "id": "BfanhS2a3UAo"
      }
    },
    {
      "cell_type": "code",
      "source": [
        "from sklearn.preprocessing import LabelEncoder\n",
        "le = LabelEncoder()\n",
        "\n",
        "df[\" education\"] = le.fit_transform(df[\" education\"])\n",
        "df[\" self_employed\"] = le.fit_transform(df[\" self_employed\"])\n",
        "df[\" loan_status\"] = le.fit_transform(df[\" loan_status\"])\n"
      ],
      "metadata": {
        "id": "r4oc_vI-15TD"
      },
      "execution_count": null,
      "outputs": []
    },
    {
      "cell_type": "code",
      "source": [
        "\n"
      ],
      "metadata": {
        "id": "5dJ1pd612GAq"
      },
      "execution_count": null,
      "outputs": []
    },
    {
      "cell_type": "code",
      "source": [
        "\n",
        "from imblearn.over_sampling import SMOTE\n",
        "\n",
        "# Check the correct column name\n",
        "print(df.columns)\n",
        "\n",
        "# Assuming ' loan_status' (with a space) is the actual target variable name\n",
        "X = df.drop(' loan_status', axis=1)\n",
        "y = df[' loan_status']\n",
        "\n",
        "# Create a SMOTE object\n",
        "smote = SMOTE(random_state=42)\n",
        "\n",
        "# Apply SMOTE to balance the dataset\n",
        "X_resampled, y_resampled = smote.fit_resample(X, y)\n",
        "\n",
        "\n"
      ],
      "metadata": {
        "colab": {
          "base_uri": "https://localhost:8080/"
        },
        "id": "gcDOlqPbQ4wj",
        "outputId": "cb1bf1f6-25dd-42e2-f275-98984fa3d406"
      },
      "execution_count": null,
      "outputs": [
        {
          "output_type": "stream",
          "name": "stdout",
          "text": [
            "Index([' no_of_dependents', ' education', ' self_employed', ' income_annum',\n",
            "       ' loan_amount', ' loan_term', ' cibil_score',\n",
            "       ' residential_assets_value', ' commercial_assets_value',\n",
            "       ' luxury_assets_value', ' bank_asset_value', ' loan_status'],\n",
            "      dtype='object')\n"
          ]
        }
      ]
    },
    {
      "cell_type": "code",
      "source": [
        "# Check the class distribution in the target variable\n",
        "print(y.value_counts())"
      ],
      "metadata": {
        "colab": {
          "base_uri": "https://localhost:8080/"
        },
        "id": "4LRTYm3p2fiR",
        "outputId": "0832bc95-78bd-40db-bed6-4a1a7ab01137"
      },
      "execution_count": null,
      "outputs": [
        {
          "output_type": "stream",
          "name": "stdout",
          "text": [
            " loan_status\n",
            "0    2656\n",
            "1    1613\n",
            "Name: count, dtype: int64\n"
          ]
        }
      ]
    },
    {
      "cell_type": "code",
      "source": [],
      "metadata": {
        "id": "PhbR2Gx03KQ0"
      },
      "execution_count": null,
      "outputs": []
    },
    {
      "cell_type": "code",
      "source": [
        "df.head()"
      ],
      "metadata": {
        "colab": {
          "base_uri": "https://localhost:8080/"
        },
        "id": "6sYHy-br3dvz",
        "outputId": "2340ab24-65f4-4fac-88aa-6122555cd990"
      },
      "execution_count": null,
      "outputs": [
        {
          "output_type": "execute_result",
          "data": {
            "text/plain": [
              "   no_of_dependents  education  self_employed  income_annum  loan_amount  \\\n",
              "0                 2          0              0       9600000     29900000   \n",
              "1                 0          1              1       4100000     12200000   \n",
              "2                 3          0              0       9100000     29700000   \n",
              "3                 3          0              0       8200000     30700000   \n",
              "4                 5          1              1       9800000     24200000   \n",
              "\n",
              "   loan_term  cibil_score  residential_assets_value  commercial_assets_value  \\\n",
              "0         12          778                   2400000                 17600000   \n",
              "1          8          417                   2700000                  2200000   \n",
              "2         20          506                   7100000                  4500000   \n",
              "3          8          467                  18200000                  3300000   \n",
              "4         20          382                  12400000                  8200000   \n",
              "\n",
              "   luxury_assets_value  bank_asset_value  loan_status  \n",
              "0             22700000           8000000            0  \n",
              "1              8800000           3300000            1  \n",
              "2             33300000          12800000            1  \n",
              "3             23300000           7900000            1  \n",
              "4             29400000           5000000            1  "
            ],
            "text/html": [
              "\n",
              "  <div id=\"df-b783523d-01cc-43b9-8b8e-cb93edc4a2f6\" class=\"colab-df-container\">\n",
              "    <div>\n",
              "<style scoped>\n",
              "    .dataframe tbody tr th:only-of-type {\n",
              "        vertical-align: middle;\n",
              "    }\n",
              "\n",
              "    .dataframe tbody tr th {\n",
              "        vertical-align: top;\n",
              "    }\n",
              "\n",
              "    .dataframe thead th {\n",
              "        text-align: right;\n",
              "    }\n",
              "</style>\n",
              "<table border=\"1\" class=\"dataframe\">\n",
              "  <thead>\n",
              "    <tr style=\"text-align: right;\">\n",
              "      <th></th>\n",
              "      <th>no_of_dependents</th>\n",
              "      <th>education</th>\n",
              "      <th>self_employed</th>\n",
              "      <th>income_annum</th>\n",
              "      <th>loan_amount</th>\n",
              "      <th>loan_term</th>\n",
              "      <th>cibil_score</th>\n",
              "      <th>residential_assets_value</th>\n",
              "      <th>commercial_assets_value</th>\n",
              "      <th>luxury_assets_value</th>\n",
              "      <th>bank_asset_value</th>\n",
              "      <th>loan_status</th>\n",
              "    </tr>\n",
              "  </thead>\n",
              "  <tbody>\n",
              "    <tr>\n",
              "      <th>0</th>\n",
              "      <td>2</td>\n",
              "      <td>0</td>\n",
              "      <td>0</td>\n",
              "      <td>9600000</td>\n",
              "      <td>29900000</td>\n",
              "      <td>12</td>\n",
              "      <td>778</td>\n",
              "      <td>2400000</td>\n",
              "      <td>17600000</td>\n",
              "      <td>22700000</td>\n",
              "      <td>8000000</td>\n",
              "      <td>0</td>\n",
              "    </tr>\n",
              "    <tr>\n",
              "      <th>1</th>\n",
              "      <td>0</td>\n",
              "      <td>1</td>\n",
              "      <td>1</td>\n",
              "      <td>4100000</td>\n",
              "      <td>12200000</td>\n",
              "      <td>8</td>\n",
              "      <td>417</td>\n",
              "      <td>2700000</td>\n",
              "      <td>2200000</td>\n",
              "      <td>8800000</td>\n",
              "      <td>3300000</td>\n",
              "      <td>1</td>\n",
              "    </tr>\n",
              "    <tr>\n",
              "      <th>2</th>\n",
              "      <td>3</td>\n",
              "      <td>0</td>\n",
              "      <td>0</td>\n",
              "      <td>9100000</td>\n",
              "      <td>29700000</td>\n",
              "      <td>20</td>\n",
              "      <td>506</td>\n",
              "      <td>7100000</td>\n",
              "      <td>4500000</td>\n",
              "      <td>33300000</td>\n",
              "      <td>12800000</td>\n",
              "      <td>1</td>\n",
              "    </tr>\n",
              "    <tr>\n",
              "      <th>3</th>\n",
              "      <td>3</td>\n",
              "      <td>0</td>\n",
              "      <td>0</td>\n",
              "      <td>8200000</td>\n",
              "      <td>30700000</td>\n",
              "      <td>8</td>\n",
              "      <td>467</td>\n",
              "      <td>18200000</td>\n",
              "      <td>3300000</td>\n",
              "      <td>23300000</td>\n",
              "      <td>7900000</td>\n",
              "      <td>1</td>\n",
              "    </tr>\n",
              "    <tr>\n",
              "      <th>4</th>\n",
              "      <td>5</td>\n",
              "      <td>1</td>\n",
              "      <td>1</td>\n",
              "      <td>9800000</td>\n",
              "      <td>24200000</td>\n",
              "      <td>20</td>\n",
              "      <td>382</td>\n",
              "      <td>12400000</td>\n",
              "      <td>8200000</td>\n",
              "      <td>29400000</td>\n",
              "      <td>5000000</td>\n",
              "      <td>1</td>\n",
              "    </tr>\n",
              "  </tbody>\n",
              "</table>\n",
              "</div>\n",
              "    <div class=\"colab-df-buttons\">\n",
              "\n",
              "  <div class=\"colab-df-container\">\n",
              "    <button class=\"colab-df-convert\" onclick=\"convertToInteractive('df-b783523d-01cc-43b9-8b8e-cb93edc4a2f6')\"\n",
              "            title=\"Convert this dataframe to an interactive table.\"\n",
              "            style=\"display:none;\">\n",
              "\n",
              "  <svg xmlns=\"http://www.w3.org/2000/svg\" height=\"24px\" viewBox=\"0 -960 960 960\">\n",
              "    <path d=\"M120-120v-720h720v720H120Zm60-500h600v-160H180v160Zm220 220h160v-160H400v160Zm0 220h160v-160H400v160ZM180-400h160v-160H180v160Zm440 0h160v-160H620v160ZM180-180h160v-160H180v160Zm440 0h160v-160H620v160Z\"/>\n",
              "  </svg>\n",
              "    </button>\n",
              "\n",
              "  <style>\n",
              "    .colab-df-container {\n",
              "      display:flex;\n",
              "      gap: 12px;\n",
              "    }\n",
              "\n",
              "    .colab-df-convert {\n",
              "      background-color: #E8F0FE;\n",
              "      border: none;\n",
              "      border-radius: 50%;\n",
              "      cursor: pointer;\n",
              "      display: none;\n",
              "      fill: #1967D2;\n",
              "      height: 32px;\n",
              "      padding: 0 0 0 0;\n",
              "      width: 32px;\n",
              "    }\n",
              "\n",
              "    .colab-df-convert:hover {\n",
              "      background-color: #E2EBFA;\n",
              "      box-shadow: 0px 1px 2px rgba(60, 64, 67, 0.3), 0px 1px 3px 1px rgba(60, 64, 67, 0.15);\n",
              "      fill: #174EA6;\n",
              "    }\n",
              "\n",
              "    .colab-df-buttons div {\n",
              "      margin-bottom: 4px;\n",
              "    }\n",
              "\n",
              "    [theme=dark] .colab-df-convert {\n",
              "      background-color: #3B4455;\n",
              "      fill: #D2E3FC;\n",
              "    }\n",
              "\n",
              "    [theme=dark] .colab-df-convert:hover {\n",
              "      background-color: #434B5C;\n",
              "      box-shadow: 0px 1px 3px 1px rgba(0, 0, 0, 0.15);\n",
              "      filter: drop-shadow(0px 1px 2px rgba(0, 0, 0, 0.3));\n",
              "      fill: #FFFFFF;\n",
              "    }\n",
              "  </style>\n",
              "\n",
              "    <script>\n",
              "      const buttonEl =\n",
              "        document.querySelector('#df-b783523d-01cc-43b9-8b8e-cb93edc4a2f6 button.colab-df-convert');\n",
              "      buttonEl.style.display =\n",
              "        google.colab.kernel.accessAllowed ? 'block' : 'none';\n",
              "\n",
              "      async function convertToInteractive(key) {\n",
              "        const element = document.querySelector('#df-b783523d-01cc-43b9-8b8e-cb93edc4a2f6');\n",
              "        const dataTable =\n",
              "          await google.colab.kernel.invokeFunction('convertToInteractive',\n",
              "                                                    [key], {});\n",
              "        if (!dataTable) return;\n",
              "\n",
              "        const docLinkHtml = 'Like what you see? Visit the ' +\n",
              "          '<a target=\"_blank\" href=https://colab.research.google.com/notebooks/data_table.ipynb>data table notebook</a>'\n",
              "          + ' to learn more about interactive tables.';\n",
              "        element.innerHTML = '';\n",
              "        dataTable['output_type'] = 'display_data';\n",
              "        await google.colab.output.renderOutput(dataTable, element);\n",
              "        const docLink = document.createElement('div');\n",
              "        docLink.innerHTML = docLinkHtml;\n",
              "        element.appendChild(docLink);\n",
              "      }\n",
              "    </script>\n",
              "  </div>\n",
              "\n",
              "\n",
              "<div id=\"df-c4160284-9ade-40ff-b6b9-dad44b5ff1d5\">\n",
              "  <button class=\"colab-df-quickchart\" onclick=\"quickchart('df-c4160284-9ade-40ff-b6b9-dad44b5ff1d5')\"\n",
              "            title=\"Suggest charts\"\n",
              "            style=\"display:none;\">\n",
              "\n",
              "<svg xmlns=\"http://www.w3.org/2000/svg\" height=\"24px\"viewBox=\"0 0 24 24\"\n",
              "     width=\"24px\">\n",
              "    <g>\n",
              "        <path d=\"M19 3H5c-1.1 0-2 .9-2 2v14c0 1.1.9 2 2 2h14c1.1 0 2-.9 2-2V5c0-1.1-.9-2-2-2zM9 17H7v-7h2v7zm4 0h-2V7h2v10zm4 0h-2v-4h2v4z\"/>\n",
              "    </g>\n",
              "</svg>\n",
              "  </button>\n",
              "\n",
              "<style>\n",
              "  .colab-df-quickchart {\n",
              "      --bg-color: #E8F0FE;\n",
              "      --fill-color: #1967D2;\n",
              "      --hover-bg-color: #E2EBFA;\n",
              "      --hover-fill-color: #174EA6;\n",
              "      --disabled-fill-color: #AAA;\n",
              "      --disabled-bg-color: #DDD;\n",
              "  }\n",
              "\n",
              "  [theme=dark] .colab-df-quickchart {\n",
              "      --bg-color: #3B4455;\n",
              "      --fill-color: #D2E3FC;\n",
              "      --hover-bg-color: #434B5C;\n",
              "      --hover-fill-color: #FFFFFF;\n",
              "      --disabled-bg-color: #3B4455;\n",
              "      --disabled-fill-color: #666;\n",
              "  }\n",
              "\n",
              "  .colab-df-quickchart {\n",
              "    background-color: var(--bg-color);\n",
              "    border: none;\n",
              "    border-radius: 50%;\n",
              "    cursor: pointer;\n",
              "    display: none;\n",
              "    fill: var(--fill-color);\n",
              "    height: 32px;\n",
              "    padding: 0;\n",
              "    width: 32px;\n",
              "  }\n",
              "\n",
              "  .colab-df-quickchart:hover {\n",
              "    background-color: var(--hover-bg-color);\n",
              "    box-shadow: 0 1px 2px rgba(60, 64, 67, 0.3), 0 1px 3px 1px rgba(60, 64, 67, 0.15);\n",
              "    fill: var(--button-hover-fill-color);\n",
              "  }\n",
              "\n",
              "  .colab-df-quickchart-complete:disabled,\n",
              "  .colab-df-quickchart-complete:disabled:hover {\n",
              "    background-color: var(--disabled-bg-color);\n",
              "    fill: var(--disabled-fill-color);\n",
              "    box-shadow: none;\n",
              "  }\n",
              "\n",
              "  .colab-df-spinner {\n",
              "    border: 2px solid var(--fill-color);\n",
              "    border-color: transparent;\n",
              "    border-bottom-color: var(--fill-color);\n",
              "    animation:\n",
              "      spin 1s steps(1) infinite;\n",
              "  }\n",
              "\n",
              "  @keyframes spin {\n",
              "    0% {\n",
              "      border-color: transparent;\n",
              "      border-bottom-color: var(--fill-color);\n",
              "      border-left-color: var(--fill-color);\n",
              "    }\n",
              "    20% {\n",
              "      border-color: transparent;\n",
              "      border-left-color: var(--fill-color);\n",
              "      border-top-color: var(--fill-color);\n",
              "    }\n",
              "    30% {\n",
              "      border-color: transparent;\n",
              "      border-left-color: var(--fill-color);\n",
              "      border-top-color: var(--fill-color);\n",
              "      border-right-color: var(--fill-color);\n",
              "    }\n",
              "    40% {\n",
              "      border-color: transparent;\n",
              "      border-right-color: var(--fill-color);\n",
              "      border-top-color: var(--fill-color);\n",
              "    }\n",
              "    60% {\n",
              "      border-color: transparent;\n",
              "      border-right-color: var(--fill-color);\n",
              "    }\n",
              "    80% {\n",
              "      border-color: transparent;\n",
              "      border-right-color: var(--fill-color);\n",
              "      border-bottom-color: var(--fill-color);\n",
              "    }\n",
              "    90% {\n",
              "      border-color: transparent;\n",
              "      border-bottom-color: var(--fill-color);\n",
              "    }\n",
              "  }\n",
              "</style>\n",
              "\n",
              "  <script>\n",
              "    async function quickchart(key) {\n",
              "      const quickchartButtonEl =\n",
              "        document.querySelector('#' + key + ' button');\n",
              "      quickchartButtonEl.disabled = true;  // To prevent multiple clicks.\n",
              "      quickchartButtonEl.classList.add('colab-df-spinner');\n",
              "      try {\n",
              "        const charts = await google.colab.kernel.invokeFunction(\n",
              "            'suggestCharts', [key], {});\n",
              "      } catch (error) {\n",
              "        console.error('Error during call to suggestCharts:', error);\n",
              "      }\n",
              "      quickchartButtonEl.classList.remove('colab-df-spinner');\n",
              "      quickchartButtonEl.classList.add('colab-df-quickchart-complete');\n",
              "    }\n",
              "    (() => {\n",
              "      let quickchartButtonEl =\n",
              "        document.querySelector('#df-c4160284-9ade-40ff-b6b9-dad44b5ff1d5 button');\n",
              "      quickchartButtonEl.style.display =\n",
              "        google.colab.kernel.accessAllowed ? 'block' : 'none';\n",
              "    })();\n",
              "  </script>\n",
              "</div>\n",
              "\n",
              "    </div>\n",
              "  </div>\n"
            ],
            "application/vnd.google.colaboratory.intrinsic+json": {
              "type": "dataframe",
              "variable_name": "df",
              "summary": "{\n  \"name\": \"df\",\n  \"rows\": 4269,\n  \"fields\": [\n    {\n      \"column\": \" no_of_dependents\",\n      \"properties\": {\n        \"dtype\": \"number\",\n        \"std\": 1,\n        \"min\": 0,\n        \"max\": 5,\n        \"num_unique_values\": 6,\n        \"samples\": [\n          2,\n          0,\n          1\n        ],\n        \"semantic_type\": \"\",\n        \"description\": \"\"\n      }\n    },\n    {\n      \"column\": \" education\",\n      \"properties\": {\n        \"dtype\": \"number\",\n        \"std\": 0,\n        \"min\": 0,\n        \"max\": 1,\n        \"num_unique_values\": 2,\n        \"samples\": [\n          1,\n          0\n        ],\n        \"semantic_type\": \"\",\n        \"description\": \"\"\n      }\n    },\n    {\n      \"column\": \" self_employed\",\n      \"properties\": {\n        \"dtype\": \"number\",\n        \"std\": 0,\n        \"min\": 0,\n        \"max\": 1,\n        \"num_unique_values\": 2,\n        \"samples\": [\n          1,\n          0\n        ],\n        \"semantic_type\": \"\",\n        \"description\": \"\"\n      }\n    },\n    {\n      \"column\": \" income_annum\",\n      \"properties\": {\n        \"dtype\": \"number\",\n        \"std\": 2806839,\n        \"min\": 200000,\n        \"max\": 9900000,\n        \"num_unique_values\": 98,\n        \"samples\": [\n          6200000,\n          9300000\n        ],\n        \"semantic_type\": \"\",\n        \"description\": \"\"\n      }\n    },\n    {\n      \"column\": \" loan_amount\",\n      \"properties\": {\n        \"dtype\": \"number\",\n        \"std\": 9043362,\n        \"min\": 300000,\n        \"max\": 39500000,\n        \"num_unique_values\": 378,\n        \"samples\": [\n          25800000,\n          26100000\n        ],\n        \"semantic_type\": \"\",\n        \"description\": \"\"\n      }\n    },\n    {\n      \"column\": \" loan_term\",\n      \"properties\": {\n        \"dtype\": \"number\",\n        \"std\": 5,\n        \"min\": 2,\n        \"max\": 20,\n        \"num_unique_values\": 10,\n        \"samples\": [\n          14,\n          8\n        ],\n        \"semantic_type\": \"\",\n        \"description\": \"\"\n      }\n    },\n    {\n      \"column\": \" cibil_score\",\n      \"properties\": {\n        \"dtype\": \"number\",\n        \"std\": 172,\n        \"min\": 300,\n        \"max\": 900,\n        \"num_unique_values\": 601,\n        \"samples\": [\n          859,\n          414\n        ],\n        \"semantic_type\": \"\",\n        \"description\": \"\"\n      }\n    },\n    {\n      \"column\": \" residential_assets_value\",\n      \"properties\": {\n        \"dtype\": \"number\",\n        \"std\": 6503636,\n        \"min\": -100000,\n        \"max\": 29100000,\n        \"num_unique_values\": 278,\n        \"samples\": [\n          700000,\n          3500000\n        ],\n        \"semantic_type\": \"\",\n        \"description\": \"\"\n      }\n    },\n    {\n      \"column\": \" commercial_assets_value\",\n      \"properties\": {\n        \"dtype\": \"number\",\n        \"std\": 4388966,\n        \"min\": 0,\n        \"max\": 19400000,\n        \"num_unique_values\": 188,\n        \"samples\": [\n          13500000,\n          14600000\n        ],\n        \"semantic_type\": \"\",\n        \"description\": \"\"\n      }\n    },\n    {\n      \"column\": \" luxury_assets_value\",\n      \"properties\": {\n        \"dtype\": \"number\",\n        \"std\": 9103753,\n        \"min\": 300000,\n        \"max\": 39200000,\n        \"num_unique_values\": 379,\n        \"samples\": [\n          15300000,\n          12100000\n        ],\n        \"semantic_type\": \"\",\n        \"description\": \"\"\n      }\n    },\n    {\n      \"column\": \" bank_asset_value\",\n      \"properties\": {\n        \"dtype\": \"number\",\n        \"std\": 3250185,\n        \"min\": 0,\n        \"max\": 14700000,\n        \"num_unique_values\": 146,\n        \"samples\": [\n          4800000,\n          14400000\n        ],\n        \"semantic_type\": \"\",\n        \"description\": \"\"\n      }\n    },\n    {\n      \"column\": \" loan_status\",\n      \"properties\": {\n        \"dtype\": \"number\",\n        \"std\": 0,\n        \"min\": 0,\n        \"max\": 1,\n        \"num_unique_values\": 2,\n        \"samples\": [\n          1,\n          0\n        ],\n        \"semantic_type\": \"\",\n        \"description\": \"\"\n      }\n    }\n  ]\n}"
            }
          },
          "metadata": {},
          "execution_count": 22
        }
      ]
    },
    {
      "cell_type": "code",
      "source": [
        "df.describe().T.style.background_gradient(cmap='Greens')"
      ],
      "metadata": {
        "colab": {
          "base_uri": "https://localhost:8080/"
        },
        "id": "YTIQqOHn3gTb",
        "outputId": "8d5e2a17-a956-4829-eb52-2a72636894b4"
      },
      "execution_count": null,
      "outputs": [
        {
          "output_type": "execute_result",
          "data": {
            "text/plain": [
              "<pandas.io.formats.style.Styler at 0x7a1c7f07ca90>"
            ],
            "text/html": [
              "<style type=\"text/css\">\n",
              "#T_9b80e_row0_col0, #T_9b80e_row0_col1, #T_9b80e_row0_col2, #T_9b80e_row0_col4, #T_9b80e_row0_col5, #T_9b80e_row0_col6, #T_9b80e_row0_col7, #T_9b80e_row1_col0, #T_9b80e_row1_col1, #T_9b80e_row1_col2, #T_9b80e_row1_col4, #T_9b80e_row1_col5, #T_9b80e_row1_col6, #T_9b80e_row1_col7, #T_9b80e_row2_col0, #T_9b80e_row2_col1, #T_9b80e_row2_col2, #T_9b80e_row2_col4, #T_9b80e_row2_col5, #T_9b80e_row2_col6, #T_9b80e_row2_col7, #T_9b80e_row3_col0, #T_9b80e_row4_col0, #T_9b80e_row5_col0, #T_9b80e_row5_col1, #T_9b80e_row5_col2, #T_9b80e_row5_col4, #T_9b80e_row5_col5, #T_9b80e_row5_col6, #T_9b80e_row5_col7, #T_9b80e_row6_col0, #T_9b80e_row6_col1, #T_9b80e_row6_col2, #T_9b80e_row6_col4, #T_9b80e_row6_col5, #T_9b80e_row6_col6, #T_9b80e_row6_col7, #T_9b80e_row7_col0, #T_9b80e_row7_col3, #T_9b80e_row8_col0, #T_9b80e_row9_col0, #T_9b80e_row10_col0, #T_9b80e_row11_col0, #T_9b80e_row11_col1, #T_9b80e_row11_col2, #T_9b80e_row11_col4, #T_9b80e_row11_col5, #T_9b80e_row11_col6, #T_9b80e_row11_col7 {\n",
              "  background-color: #f7fcf5;\n",
              "  color: #000000;\n",
              "}\n",
              "#T_9b80e_row0_col3, #T_9b80e_row1_col3, #T_9b80e_row2_col3, #T_9b80e_row3_col7, #T_9b80e_row5_col3, #T_9b80e_row6_col3, #T_9b80e_row8_col3, #T_9b80e_row8_col5, #T_9b80e_row10_col3, #T_9b80e_row11_col3 {\n",
              "  background-color: #c7e9c0;\n",
              "  color: #000000;\n",
              "}\n",
              "#T_9b80e_row3_col1 {\n",
              "  background-color: #aedea7;\n",
              "  color: #000000;\n",
              "}\n",
              "#T_9b80e_row3_col2 {\n",
              "  background-color: #b6e2af;\n",
              "  color: #000000;\n",
              "}\n",
              "#T_9b80e_row3_col3 {\n",
              "  background-color: #228a44;\n",
              "  color: #f1f1f1;\n",
              "}\n",
              "#T_9b80e_row3_col4, #T_9b80e_row3_col5, #T_9b80e_row8_col6 {\n",
              "  background-color: #a9dca3;\n",
              "  color: #000000;\n",
              "}\n",
              "#T_9b80e_row3_col6 {\n",
              "  background-color: #aadda4;\n",
              "  color: #000000;\n",
              "}\n",
              "#T_9b80e_row4_col1, #T_9b80e_row4_col3, #T_9b80e_row4_col4, #T_9b80e_row4_col7, #T_9b80e_row9_col1, #T_9b80e_row9_col2, #T_9b80e_row9_col3, #T_9b80e_row9_col5, #T_9b80e_row9_col6 {\n",
              "  background-color: #00441b;\n",
              "  color: #f1f1f1;\n",
              "}\n",
              "#T_9b80e_row4_col2, #T_9b80e_row4_col5, #T_9b80e_row9_col7 {\n",
              "  background-color: #00451c;\n",
              "  color: #f1f1f1;\n",
              "}\n",
              "#T_9b80e_row4_col6 {\n",
              "  background-color: #00471c;\n",
              "  color: #f1f1f1;\n",
              "}\n",
              "#T_9b80e_row7_col1 {\n",
              "  background-color: #76c578;\n",
              "  color: #000000;\n",
              "}\n",
              "#T_9b80e_row7_col2 {\n",
              "  background-color: #2c944c;\n",
              "  color: #f1f1f1;\n",
              "}\n",
              "#T_9b80e_row7_col4 {\n",
              "  background-color: #bce4b5;\n",
              "  color: #000000;\n",
              "}\n",
              "#T_9b80e_row7_col5 {\n",
              "  background-color: #9ed798;\n",
              "  color: #000000;\n",
              "}\n",
              "#T_9b80e_row7_col6 {\n",
              "  background-color: #6bc072;\n",
              "  color: #000000;\n",
              "}\n",
              "#T_9b80e_row7_col7 {\n",
              "  background-color: #268e47;\n",
              "  color: #f1f1f1;\n",
              "}\n",
              "#T_9b80e_row8_col1, #T_9b80e_row10_col1 {\n",
              "  background-color: #afdfa8;\n",
              "  color: #000000;\n",
              "}\n",
              "#T_9b80e_row8_col2 {\n",
              "  background-color: #7ac77b;\n",
              "  color: #000000;\n",
              "}\n",
              "#T_9b80e_row8_col4 {\n",
              "  background-color: #dbf1d5;\n",
              "  color: #000000;\n",
              "}\n",
              "#T_9b80e_row8_col7 {\n",
              "  background-color: #78c679;\n",
              "  color: #000000;\n",
              "}\n",
              "#T_9b80e_row9_col4 {\n",
              "  background-color: #004c1e;\n",
              "  color: #f1f1f1;\n",
              "}\n",
              "#T_9b80e_row10_col2 {\n",
              "  background-color: #a7dba0;\n",
              "  color: #000000;\n",
              "}\n",
              "#T_9b80e_row10_col4 {\n",
              "  background-color: #b8e3b2;\n",
              "  color: #000000;\n",
              "}\n",
              "#T_9b80e_row10_col5 {\n",
              "  background-color: #b4e1ad;\n",
              "  color: #000000;\n",
              "}\n",
              "#T_9b80e_row10_col6 {\n",
              "  background-color: #b0dfaa;\n",
              "  color: #000000;\n",
              "}\n",
              "#T_9b80e_row10_col7 {\n",
              "  background-color: #a2d99c;\n",
              "  color: #000000;\n",
              "}\n",
              "</style>\n",
              "<table id=\"T_9b80e\" class=\"dataframe\">\n",
              "  <thead>\n",
              "    <tr>\n",
              "      <th class=\"blank level0\" >&nbsp;</th>\n",
              "      <th id=\"T_9b80e_level0_col0\" class=\"col_heading level0 col0\" >count</th>\n",
              "      <th id=\"T_9b80e_level0_col1\" class=\"col_heading level0 col1\" >mean</th>\n",
              "      <th id=\"T_9b80e_level0_col2\" class=\"col_heading level0 col2\" >std</th>\n",
              "      <th id=\"T_9b80e_level0_col3\" class=\"col_heading level0 col3\" >min</th>\n",
              "      <th id=\"T_9b80e_level0_col4\" class=\"col_heading level0 col4\" >25%</th>\n",
              "      <th id=\"T_9b80e_level0_col5\" class=\"col_heading level0 col5\" >50%</th>\n",
              "      <th id=\"T_9b80e_level0_col6\" class=\"col_heading level0 col6\" >75%</th>\n",
              "      <th id=\"T_9b80e_level0_col7\" class=\"col_heading level0 col7\" >max</th>\n",
              "    </tr>\n",
              "  </thead>\n",
              "  <tbody>\n",
              "    <tr>\n",
              "      <th id=\"T_9b80e_level0_row0\" class=\"row_heading level0 row0\" > no_of_dependents</th>\n",
              "      <td id=\"T_9b80e_row0_col0\" class=\"data row0 col0\" >4269.000000</td>\n",
              "      <td id=\"T_9b80e_row0_col1\" class=\"data row0 col1\" >2.498712</td>\n",
              "      <td id=\"T_9b80e_row0_col2\" class=\"data row0 col2\" >1.695910</td>\n",
              "      <td id=\"T_9b80e_row0_col3\" class=\"data row0 col3\" >0.000000</td>\n",
              "      <td id=\"T_9b80e_row0_col4\" class=\"data row0 col4\" >1.000000</td>\n",
              "      <td id=\"T_9b80e_row0_col5\" class=\"data row0 col5\" >3.000000</td>\n",
              "      <td id=\"T_9b80e_row0_col6\" class=\"data row0 col6\" >4.000000</td>\n",
              "      <td id=\"T_9b80e_row0_col7\" class=\"data row0 col7\" >5.000000</td>\n",
              "    </tr>\n",
              "    <tr>\n",
              "      <th id=\"T_9b80e_level0_row1\" class=\"row_heading level0 row1\" > education</th>\n",
              "      <td id=\"T_9b80e_row1_col0\" class=\"data row1 col0\" >4269.000000</td>\n",
              "      <td id=\"T_9b80e_row1_col1\" class=\"data row1 col1\" >0.497775</td>\n",
              "      <td id=\"T_9b80e_row1_col2\" class=\"data row1 col2\" >0.500054</td>\n",
              "      <td id=\"T_9b80e_row1_col3\" class=\"data row1 col3\" >0.000000</td>\n",
              "      <td id=\"T_9b80e_row1_col4\" class=\"data row1 col4\" >0.000000</td>\n",
              "      <td id=\"T_9b80e_row1_col5\" class=\"data row1 col5\" >0.000000</td>\n",
              "      <td id=\"T_9b80e_row1_col6\" class=\"data row1 col6\" >1.000000</td>\n",
              "      <td id=\"T_9b80e_row1_col7\" class=\"data row1 col7\" >1.000000</td>\n",
              "    </tr>\n",
              "    <tr>\n",
              "      <th id=\"T_9b80e_level0_row2\" class=\"row_heading level0 row2\" > self_employed</th>\n",
              "      <td id=\"T_9b80e_row2_col0\" class=\"data row2 col0\" >4269.000000</td>\n",
              "      <td id=\"T_9b80e_row2_col1\" class=\"data row2 col1\" >0.503631</td>\n",
              "      <td id=\"T_9b80e_row2_col2\" class=\"data row2 col2\" >0.500045</td>\n",
              "      <td id=\"T_9b80e_row2_col3\" class=\"data row2 col3\" >0.000000</td>\n",
              "      <td id=\"T_9b80e_row2_col4\" class=\"data row2 col4\" >0.000000</td>\n",
              "      <td id=\"T_9b80e_row2_col5\" class=\"data row2 col5\" >1.000000</td>\n",
              "      <td id=\"T_9b80e_row2_col6\" class=\"data row2 col6\" >1.000000</td>\n",
              "      <td id=\"T_9b80e_row2_col7\" class=\"data row2 col7\" >1.000000</td>\n",
              "    </tr>\n",
              "    <tr>\n",
              "      <th id=\"T_9b80e_level0_row3\" class=\"row_heading level0 row3\" > income_annum</th>\n",
              "      <td id=\"T_9b80e_row3_col0\" class=\"data row3 col0\" >4269.000000</td>\n",
              "      <td id=\"T_9b80e_row3_col1\" class=\"data row3 col1\" >5059123.916608</td>\n",
              "      <td id=\"T_9b80e_row3_col2\" class=\"data row3 col2\" >2806839.831818</td>\n",
              "      <td id=\"T_9b80e_row3_col3\" class=\"data row3 col3\" >200000.000000</td>\n",
              "      <td id=\"T_9b80e_row3_col4\" class=\"data row3 col4\" >2700000.000000</td>\n",
              "      <td id=\"T_9b80e_row3_col5\" class=\"data row3 col5\" >5100000.000000</td>\n",
              "      <td id=\"T_9b80e_row3_col6\" class=\"data row3 col6\" >7500000.000000</td>\n",
              "      <td id=\"T_9b80e_row3_col7\" class=\"data row3 col7\" >9900000.000000</td>\n",
              "    </tr>\n",
              "    <tr>\n",
              "      <th id=\"T_9b80e_level0_row4\" class=\"row_heading level0 row4\" > loan_amount</th>\n",
              "      <td id=\"T_9b80e_row4_col0\" class=\"data row4 col0\" >4269.000000</td>\n",
              "      <td id=\"T_9b80e_row4_col1\" class=\"data row4 col1\" >15133450.456781</td>\n",
              "      <td id=\"T_9b80e_row4_col2\" class=\"data row4 col2\" >9043362.984843</td>\n",
              "      <td id=\"T_9b80e_row4_col3\" class=\"data row4 col3\" >300000.000000</td>\n",
              "      <td id=\"T_9b80e_row4_col4\" class=\"data row4 col4\" >7700000.000000</td>\n",
              "      <td id=\"T_9b80e_row4_col5\" class=\"data row4 col5\" >14500000.000000</td>\n",
              "      <td id=\"T_9b80e_row4_col6\" class=\"data row4 col6\" >21500000.000000</td>\n",
              "      <td id=\"T_9b80e_row4_col7\" class=\"data row4 col7\" >39500000.000000</td>\n",
              "    </tr>\n",
              "    <tr>\n",
              "      <th id=\"T_9b80e_level0_row5\" class=\"row_heading level0 row5\" > loan_term</th>\n",
              "      <td id=\"T_9b80e_row5_col0\" class=\"data row5 col0\" >4269.000000</td>\n",
              "      <td id=\"T_9b80e_row5_col1\" class=\"data row5 col1\" >10.900445</td>\n",
              "      <td id=\"T_9b80e_row5_col2\" class=\"data row5 col2\" >5.709187</td>\n",
              "      <td id=\"T_9b80e_row5_col3\" class=\"data row5 col3\" >2.000000</td>\n",
              "      <td id=\"T_9b80e_row5_col4\" class=\"data row5 col4\" >6.000000</td>\n",
              "      <td id=\"T_9b80e_row5_col5\" class=\"data row5 col5\" >10.000000</td>\n",
              "      <td id=\"T_9b80e_row5_col6\" class=\"data row5 col6\" >16.000000</td>\n",
              "      <td id=\"T_9b80e_row5_col7\" class=\"data row5 col7\" >20.000000</td>\n",
              "    </tr>\n",
              "    <tr>\n",
              "      <th id=\"T_9b80e_level0_row6\" class=\"row_heading level0 row6\" > cibil_score</th>\n",
              "      <td id=\"T_9b80e_row6_col0\" class=\"data row6 col0\" >4269.000000</td>\n",
              "      <td id=\"T_9b80e_row6_col1\" class=\"data row6 col1\" >599.936051</td>\n",
              "      <td id=\"T_9b80e_row6_col2\" class=\"data row6 col2\" >172.430401</td>\n",
              "      <td id=\"T_9b80e_row6_col3\" class=\"data row6 col3\" >300.000000</td>\n",
              "      <td id=\"T_9b80e_row6_col4\" class=\"data row6 col4\" >453.000000</td>\n",
              "      <td id=\"T_9b80e_row6_col5\" class=\"data row6 col5\" >600.000000</td>\n",
              "      <td id=\"T_9b80e_row6_col6\" class=\"data row6 col6\" >748.000000</td>\n",
              "      <td id=\"T_9b80e_row6_col7\" class=\"data row6 col7\" >900.000000</td>\n",
              "    </tr>\n",
              "    <tr>\n",
              "      <th id=\"T_9b80e_level0_row7\" class=\"row_heading level0 row7\" > residential_assets_value</th>\n",
              "      <td id=\"T_9b80e_row7_col0\" class=\"data row7 col0\" >4269.000000</td>\n",
              "      <td id=\"T_9b80e_row7_col1\" class=\"data row7 col1\" >7472616.537831</td>\n",
              "      <td id=\"T_9b80e_row7_col2\" class=\"data row7 col2\" >6503636.587664</td>\n",
              "      <td id=\"T_9b80e_row7_col3\" class=\"data row7 col3\" >-100000.000000</td>\n",
              "      <td id=\"T_9b80e_row7_col4\" class=\"data row7 col4\" >2200000.000000</td>\n",
              "      <td id=\"T_9b80e_row7_col5\" class=\"data row7 col5\" >5600000.000000</td>\n",
              "      <td id=\"T_9b80e_row7_col6\" class=\"data row7 col6\" >11300000.000000</td>\n",
              "      <td id=\"T_9b80e_row7_col7\" class=\"data row7 col7\" >29100000.000000</td>\n",
              "    </tr>\n",
              "    <tr>\n",
              "      <th id=\"T_9b80e_level0_row8\" class=\"row_heading level0 row8\" > commercial_assets_value</th>\n",
              "      <td id=\"T_9b80e_row8_col0\" class=\"data row8 col0\" >4269.000000</td>\n",
              "      <td id=\"T_9b80e_row8_col1\" class=\"data row8 col1\" >4973155.305692</td>\n",
              "      <td id=\"T_9b80e_row8_col2\" class=\"data row8 col2\" >4388966.089638</td>\n",
              "      <td id=\"T_9b80e_row8_col3\" class=\"data row8 col3\" >0.000000</td>\n",
              "      <td id=\"T_9b80e_row8_col4\" class=\"data row8 col4\" >1300000.000000</td>\n",
              "      <td id=\"T_9b80e_row8_col5\" class=\"data row8 col5\" >3700000.000000</td>\n",
              "      <td id=\"T_9b80e_row8_col6\" class=\"data row8 col6\" >7600000.000000</td>\n",
              "      <td id=\"T_9b80e_row8_col7\" class=\"data row8 col7\" >19400000.000000</td>\n",
              "    </tr>\n",
              "    <tr>\n",
              "      <th id=\"T_9b80e_level0_row9\" class=\"row_heading level0 row9\" > luxury_assets_value</th>\n",
              "      <td id=\"T_9b80e_row9_col0\" class=\"data row9 col0\" >4269.000000</td>\n",
              "      <td id=\"T_9b80e_row9_col1\" class=\"data row9 col1\" >15126305.926446</td>\n",
              "      <td id=\"T_9b80e_row9_col2\" class=\"data row9 col2\" >9103753.665256</td>\n",
              "      <td id=\"T_9b80e_row9_col3\" class=\"data row9 col3\" >300000.000000</td>\n",
              "      <td id=\"T_9b80e_row9_col4\" class=\"data row9 col4\" >7500000.000000</td>\n",
              "      <td id=\"T_9b80e_row9_col5\" class=\"data row9 col5\" >14600000.000000</td>\n",
              "      <td id=\"T_9b80e_row9_col6\" class=\"data row9 col6\" >21700000.000000</td>\n",
              "      <td id=\"T_9b80e_row9_col7\" class=\"data row9 col7\" >39200000.000000</td>\n",
              "    </tr>\n",
              "    <tr>\n",
              "      <th id=\"T_9b80e_level0_row10\" class=\"row_heading level0 row10\" > bank_asset_value</th>\n",
              "      <td id=\"T_9b80e_row10_col0\" class=\"data row10 col0\" >4269.000000</td>\n",
              "      <td id=\"T_9b80e_row10_col1\" class=\"data row10 col1\" >4976692.433825</td>\n",
              "      <td id=\"T_9b80e_row10_col2\" class=\"data row10 col2\" >3250185.305696</td>\n",
              "      <td id=\"T_9b80e_row10_col3\" class=\"data row10 col3\" >0.000000</td>\n",
              "      <td id=\"T_9b80e_row10_col4\" class=\"data row10 col4\" >2300000.000000</td>\n",
              "      <td id=\"T_9b80e_row10_col5\" class=\"data row10 col5\" >4600000.000000</td>\n",
              "      <td id=\"T_9b80e_row10_col6\" class=\"data row10 col6\" >7100000.000000</td>\n",
              "      <td id=\"T_9b80e_row10_col7\" class=\"data row10 col7\" >14700000.000000</td>\n",
              "    </tr>\n",
              "    <tr>\n",
              "      <th id=\"T_9b80e_level0_row11\" class=\"row_heading level0 row11\" > loan_status</th>\n",
              "      <td id=\"T_9b80e_row11_col0\" class=\"data row11 col0\" >4269.000000</td>\n",
              "      <td id=\"T_9b80e_row11_col1\" class=\"data row11 col1\" >0.377840</td>\n",
              "      <td id=\"T_9b80e_row11_col2\" class=\"data row11 col2\" >0.484904</td>\n",
              "      <td id=\"T_9b80e_row11_col3\" class=\"data row11 col3\" >0.000000</td>\n",
              "      <td id=\"T_9b80e_row11_col4\" class=\"data row11 col4\" >0.000000</td>\n",
              "      <td id=\"T_9b80e_row11_col5\" class=\"data row11 col5\" >0.000000</td>\n",
              "      <td id=\"T_9b80e_row11_col6\" class=\"data row11 col6\" >1.000000</td>\n",
              "      <td id=\"T_9b80e_row11_col7\" class=\"data row11 col7\" >1.000000</td>\n",
              "    </tr>\n",
              "  </tbody>\n",
              "</table>\n"
            ]
          },
          "metadata": {},
          "execution_count": 23
        }
      ]
    },
    {
      "cell_type": "markdown",
      "source": [
        "**Data Visulaization**"
      ],
      "metadata": {
        "id": "mbPSNczxBpg4"
      }
    },
    {
      "cell_type": "code",
      "source": [
        "import matplotlib.pyplot as plt\n",
        "import seaborn as sns\n",
        "import pandas as pd\n",
        "\n",
        "# Assuming df is your DataFrame and loan_status is correctly mapped\n",
        "df[' loan_status'] = df[' loan_status'].map({'Approved': 0, 'Rejected': 1})\n",
        "\n",
        "# Ensure all columns are numeric for correlation calculation\n",
        "# If there are non-numeric columns, you can encode them (e.g., using one-hot encoding or label encoding)\n",
        "# For simplicity, let's convert all non-numeric columns to categorical types first\n",
        "\n",
        "# Convert categorical columns to numeric if needed\n",
        "df_encoded = pd.get_dummies(df, drop_first=True)  # One-hot encode categorical columns\n",
        "\n",
        "# Calculate the correlation matrix\n",
        "corr_matrix = df_encoded.corr()\n",
        "\n",
        "# Create the heatmap\n",
        "plt.figure(figsize=(14, 12))  # Adjust the size as needed\n",
        "sns.heatmap(corr_matrix, annot=True, cmap=\"coolwarm\", fmt=\".2f\", linewidths=0.5, annot_kws={\"size\": 10}, cbar_kws={\"shrink\": 0.75})\n",
        "\n",
        "# Title for the heatmap\n",
        "plt.title(\"Correlation Heatmap of Loan Approval Data\", fontsize=16)\n",
        "\n",
        "# Show the plot\n",
        "plt.show()\n"
      ],
      "metadata": {
        "colab": {
          "base_uri": "https://localhost:8080/"
        },
        "id": "3KeYioGH-EsI",
        "outputId": "e1285a07-4922-4e78-f0d2-876591b88b5b"
      },
      "execution_count": null,
      "outputs": [
        {
          "output_type": "display_data",
          "data": {
            "text/plain": [
              "<Figure size 1400x1200 with 2 Axes>"
            ],
            "image/png": "[encoded data removed]"
          },
          "metadata": {}
        }
      ]
    },
    {
      "cell_type": "markdown",
      "source": [
        "#  Chi-Squared test of independence between each feature and the target variable"
      ],
      "metadata": {
        "id": "h3K1VCBQzIaW"
      }
    },
    {
      "cell_type": "code",
      "source": [
        "# prompt: X_resampled, y_resampled replace with X_train with X_resamples.\n",
        "\n",
        "from sklearn.model_selection import train_test_split\n",
        "# Assuming you have X_resampled and y_resampled from SMOTE\n",
        "\n",
        "# Split the resampled data into training and testing sets\n",
        "X_train, X_test, y_train, y_test = train_test_split(X_resampled, y_resampled, test_size=0.2, random_state=42)\n"
      ],
      "metadata": {
        "id": "hrUQcioVU_qy"
      },
      "execution_count": null,
      "outputs": []
    },
    {
      "cell_type": "code",
      "source": [
        "# prompt: chi-squared test of independence\n",
        "# between the features in the combined train and validation\n",
        "# sets on the Angus labels for feature selection\n",
        "\n",
        "import pandas as pd\n",
        "from scipy.stats import chi2_contingency\n",
        "\n",
        "# Combine train and validation sets (assuming you have x_train, x_val, y_train, y_val)\n",
        "# Use X_train and X_test which were defined in cell 24\n",
        "combined_x = pd.concat([X_train, X_test])\n",
        "combined_y = pd.concat([y_train, y_test])\n",
        "\n",
        "# Create a DataFrame with features and target variable\n",
        "combined_df = pd.concat([combined_x, combined_y], axis=1)\n",
        "\n",
        "# Perform Chi-squared test for each feature against the target variable\n",
        "results = {}\n",
        "for feature in combined_x.columns:\n",
        "  contingency_table = pd.crosstab(combined_df[feature], combined_df[' loan_status'])\n",
        "  chi2, p, dof, expected = chi2_contingency(contingency_table)\n",
        "  results[feature] = {'chi2': chi2, 'p-value': p}\n",
        "\n",
        "# Print the results\n",
        "for feature, result in results.items():\n",
        "  print(f\"Feature: {feature}\")\n",
        "  print(f\"Chi-squared statistic: {result['chi2']}\")\n",
        "  print(f\"P-value: {result['p-value']}\")\n",
        "  print(\"-\" * 20)\n",
        "\n",
        "# You can then use the p-values to select features based on a significance threshold.\n",
        "# For example, you might select features with a p-value less than 0.05."
      ],
      "metadata": {
        "colab": {
          "base_uri": "https://localhost:8080/"
        },
        "id": "i-gYCUukyVzC",
        "outputId": "6454be08-044c-4f3c-ca7a-dba58c3642ab"
      },
      "execution_count": null,
      "outputs": [
        {
          "output_type": "stream",
          "name": "stdout",
          "text": [
            "Feature:  no_of_dependents\n",
            "Chi-squared statistic: 32.52272100328612\n",
            "P-value: 4.680516902412767e-06\n",
            "--------------------\n",
            "Feature:  education\n",
            "Chi-squared statistic: 52.291857680166\n",
            "P-value: 4.783537473211462e-13\n",
            "--------------------\n",
            "Feature:  self_employed\n",
            "Chi-squared statistic: 43.67588585817276\n",
            "P-value: 3.875173401307361e-11\n",
            "--------------------\n",
            "Feature:  income_annum\n",
            "Chi-squared statistic: 1249.0453078314813\n",
            "P-value: 1.0277289249546203e-05\n",
            "--------------------\n",
            "Feature:  loan_amount\n",
            "Chi-squared statistic: 1577.7945585516322\n",
            "P-value: 0.00012262415098546843\n",
            "--------------------\n",
            "Feature:  loan_term\n",
            "Chi-squared statistic: 766.4033398389487\n",
            "P-value: 4.453136449124056e-151\n",
            "--------------------\n",
            "Feature:  cibil_score\n",
            "Chi-squared statistic: 4602.289025250635\n",
            "P-value: 0.0\n",
            "--------------------\n",
            "Feature:  residential_assets_value\n",
            "Chi-squared statistic: 1481.8770515835167\n",
            "P-value: 7.49241455532174e-05\n",
            "--------------------\n",
            "Feature:  commercial_assets_value\n",
            "Chi-squared statistic: 1413.0395906456429\n",
            "P-value: 5.742710004177602e-06\n",
            "--------------------\n",
            "Feature:  luxury_assets_value\n",
            "Chi-squared statistic: 1617.1932165315527\n",
            "P-value: 4.49048595500666e-06\n",
            "--------------------\n",
            "Feature:  bank_asset_value\n",
            "Chi-squared statistic: 1359.1753725474646\n",
            "P-value: 7.854008068139252e-06\n",
            "--------------------\n"
          ]
        }
      ]
    },
    {
      "cell_type": "code",
      "source": [
        "# prompt: write the code for drawing plot for residential_assets_value, commercial_assets_value ,luxury_assets_value\n",
        "\n",
        "import matplotlib.pyplot as plt\n",
        "\n",
        "# Create a figure and axes\n",
        "fig, ax = plt.subplots(figsize=(10, 6))\n",
        "\n",
        "# Plot the data for each asset type\n",
        "ax.plot(df[' residential_assets_value'], label='Residential Assets Value')\n",
        "ax.plot(df[' commercial_assets_value'], label='Commercial Assets Value')\n",
        "ax.plot(df[' luxury_assets_value'], label='Luxury Assets Value')\n",
        "\n",
        "# Add labels and title\n",
        "ax.set_xlabel('Index')\n",
        "ax.set_ylabel('Asset Value')\n",
        "ax.set_title('Residential, Commercial, and Luxury Asset Values')\n",
        "\n",
        "# Add a legend\n",
        "ax.legend()\n",
        "\n",
        "# Remove top and right spines for a cleaner look\n",
        "ax.spines['top'].set_visible(False)\n",
        "ax.spines['right'].set_visible(False)\n",
        "\n",
        "# Show the plot\n",
        "plt.show()\n"
      ],
      "metadata": {
        "colab": {
          "base_uri": "https://localhost:8080/"
        },
        "id": "cr3PvkpyCc7k",
        "outputId": "d4cea705-d162-40ec-b0db-f4329e0ca27a"
      },
      "execution_count": null,
      "outputs": [
        {
          "output_type": "display_data",
          "data": {
            "text/plain": [
              "<Figure size 1000x600 with 1 Axes>"
            ],
            "image/png": "[encoded data removed]"
          },
          "metadata": {}
        }
      ]
    },
    {
      "cell_type": "markdown",
      "source": [
        "# Data Preparation and Split"
      ],
      "metadata": {
        "id": "sUoQDu9QPk3K"
      }
    },
    {
      "cell_type": "code",
      "source": [
        "x = df.drop([\" loan_status\"],axis=1)\n",
        "y = df[\" loan_status\"]\n",
        "\n",
        "from sklearn.model_selection import train_test_split\n",
        "x_train,x_test,y_train,y_test = train_test_split(x,y,test_size=0.2)"
      ],
      "metadata": {
        "id": "GkXL5wVhPT6V"
      },
      "execution_count": null,
      "outputs": []
    },
    {
      "cell_type": "markdown",
      "source": [
        "# Traditional ML methods"
      ],
      "metadata": {
        "id": "ZVPNq2wajKs2"
      }
    },
    {
      "cell_type": "markdown",
      "source": [
        "**LOGISTIC REGRESSION**"
      ],
      "metadata": {
        "id": "KrZDMr8W0-Fm"
      }
    },
    {
      "cell_type": "code",
      "source": [
        "from sklearn.linear_model import LogisticRegression\n",
        "from sklearn.model_selection import train_test_split, GridSearchCV\n",
        "from sklearn.preprocessing import StandardScaler\n",
        "from sklearn.metrics import classification_report, accuracy_score, mean_absolute_error, mean_squared_error, r2_score\n",
        "import numpy as np\n",
        "\n",
        "# Assuming 'df' is your DataFrame containing the features and target variable\n",
        "x = df.drop([\" loan_status\"], axis=1)\n",
        "y = df[\" loan_status\"]\n",
        "\n",
        "# Scale the features\n",
        "scaler = StandardScaler()\n",
        "x_scaled = scaler.fit_transform(x)\n",
        "\n",
        "# Use the same random_state for reproducibility\n",
        "x_train, x_test, y_train, y_test = train_test_split(x_scaled, y, test_size=0.2, random_state=42)\n",
        "\n",
        "# Define the logistic regression model with hyperparameter tuning using GridSearchCV\n",
        "logreg = LogisticRegression()\n",
        "\n",
        "# Hyperparameter tuning with GridSearch\n",
        "param_grid = {\n",
        "    'C': [0.01, 0.1, 1, 10, 100],\n",
        "    'penalty': ['l1', 'l2', 'elasticnet', 'none'],\n",
        "    'solver': ['lbfgs', 'liblinear', 'saga']\n",
        "}\n",
        "grid_search = GridSearchCV(logreg, param_grid, cv=5, verbose=1, n_jobs=-1)\n",
        "grid_search.fit(x_train, y_train)\n",
        "\n",
        "# Get the best model from grid search\n",
        "best_logreg = grid_search.best_estimator_\n",
        "\n",
        "# Fit and predict using the best model\n",
        "best_logreg.fit(x_train, y_train)\n",
        "regpred = best_logreg.predict(x_test)\n",
        "\n",
        "# Performance evaluation\n",
        "print(\"Best Hyperparameters:\", grid_search.best_params_)\n",
        "print(classification_report(y_test, regpred))\n",
        "print(\"Accuracy of Logistic Regression is : \", accuracy_score(y_test, regpred) * 100)\n",
        "\n",
        "# Calculate regression metrics\n",
        "print(\"Mean Absolute Error : \", mean_absolute_error(y_test, regpred))\n",
        "print(\"Mean Squared Error : \", mean_squared_error(y_test, regpred))\n",
        "print(\"Root Mean Squared Error : \", np.sqrt(mean_squared_error(y_test, regpred)))\n",
        "print(\"R2 Score : \", r2_score(y_test, regpred))  # Still not very useful for classification\n"
      ],
      "metadata": {
        "colab": {
          "base_uri": "https://localhost:8080/"
        },
        "id": "egEFSrEtz-5Y",
        "outputId": "69105742-4bdd-46c8-a8a3-8632463f029c"
      },
      "execution_count": null,
      "outputs": [
        {
          "output_type": "error",
          "ename": "ValueError",
          "evalue": "Input y contains NaN.",
          "traceback": [
            "\u001b[0;31m---------------------------------------------------------------------------\u001b[0m",
            "\u001b[0;31mValueError\u001b[0m                                Traceback (most recent call last)",
            "\u001b[0;32m<ipython-input-29-70060c2aae65>\u001b[0m in \u001b[0;36m<cell line: 28>\u001b[0;34m()\u001b[0m\n\u001b[1;32m     26\u001b[0m }\n\u001b[1;32m     27\u001b[0m \u001b[0mgrid_search\u001b[0m \u001b[0;34m=\u001b[0m \u001b[0mGridSearchCV\u001b[0m\u001b[0;34m(\u001b[0m\u001b[0mlogreg\u001b[0m\u001b[0;34m,\u001b[0m \u001b[0mparam_grid\u001b[0m\u001b[0;34m,\u001b[0m \u001b[0mcv\u001b[0m\u001b[0;34m=\u001b[0m\u001b[0;36m5\u001b[0m\u001b[0;34m,\u001b[0m \u001b[0mverbose\u001b[0m\u001b[0;34m=\u001b[0m\u001b[0;36m1\u001b[0m\u001b[0;34m,\u001b[0m \u001b[0mn_jobs\u001b[0m\u001b[0;34m=\u001b[0m\u001b[0;34m-\u001b[0m\u001b[0;36m1\u001b[0m\u001b[0;34m)\u001b[0m\u001b[0;34m\u001b[0m\u001b[0;34m\u001b[0m\u001b[0m\n\u001b[0;32m---> 28\u001b[0;31m \u001b[0mgrid_search\u001b[0m\u001b[0;34m.\u001b[0m\u001b[0mfit\u001b[0m\u001b[0;34m(\u001b[0m\u001b[0mx_train\u001b[0m\u001b[0;34m,\u001b[0m \u001b[0my_train\u001b[0m\u001b[0;34m)\u001b[0m\u001b[0;34m\u001b[0m\u001b[0;34m\u001b[0m\u001b[0m\n\u001b[0m\u001b[1;32m     29\u001b[0m \u001b[0;34m\u001b[0m\u001b[0m\n\u001b[1;32m     30\u001b[0m \u001b[0;31m# Get the best model from grid search\u001b[0m\u001b[0;34m\u001b[0m\u001b[0;34m\u001b[0m\u001b[0m\n",
            "\u001b[0;32m/usr/local/lib/python3.10/dist-packages/sklearn/base.py\u001b[0m in \u001b[0;36mwrapper\u001b[0;34m(estimator, *args, **kwargs)\u001b[0m\n\u001b[1;32m   1471\u001b[0m                 )\n\u001b[1;32m   1472\u001b[0m             ):\n\u001b[0;32m-> 1473\u001b[0;31m                 \u001b[0;32mreturn\u001b[0m \u001b[0mfit_method\u001b[0m\u001b[0;34m(\u001b[0m\u001b[0mestimator\u001b[0m\u001b[0;34m,\u001b[0m \u001b[0;34m*\u001b[0m\u001b[0margs\u001b[0m\u001b[0;34m,\u001b[0m \u001b[0;34m**\u001b[0m\u001b[0mkwargs\u001b[0m\u001b[0;34m)\u001b[0m\u001b[0;34m\u001b[0m\u001b[0;34m\u001b[0m\u001b[0m\n\u001b[0m\u001b[1;32m   1474\u001b[0m \u001b[0;34m\u001b[0m\u001b[0m\n\u001b[1;32m   1475\u001b[0m         \u001b[0;32mreturn\u001b[0m \u001b[0mwrapper\u001b[0m\u001b[0;34m\u001b[0m\u001b[0;34m\u001b[0m\u001b[0m\n",
            "\u001b[0;32m/usr/local/lib/python3.10/dist-packages/sklearn/model_selection/_search.py\u001b[0m in \u001b[0;36mfit\u001b[0;34m(self, X, y, **params)\u001b[0m\n\u001b[1;32m    926\u001b[0m         \u001b[0mrouted_params\u001b[0m \u001b[0;34m=\u001b[0m \u001b[0mself\u001b[0m\u001b[0;34m.\u001b[0m\u001b[0m_get_routed_params_for_fit\u001b[0m\u001b[0;34m(\u001b[0m\u001b[0mparams\u001b[0m\u001b[0;34m)\u001b[0m\u001b[0;34m\u001b[0m\u001b[0;34m\u001b[0m\u001b[0m\n\u001b[1;32m    927\u001b[0m \u001b[0;34m\u001b[0m\u001b[0m\n\u001b[0;32m--> 928\u001b[0;31m         \u001b[0mcv_orig\u001b[0m \u001b[0;34m=\u001b[0m \u001b[0mcheck_cv\u001b[0m\u001b[0;34m(\u001b[0m\u001b[0mself\u001b[0m\u001b[0;34m.\u001b[0m\u001b[0mcv\u001b[0m\u001b[0;34m,\u001b[0m \u001b[0my\u001b[0m\u001b[0;34m,\u001b[0m \u001b[0mclassifier\u001b[0m\u001b[0;34m=\u001b[0m\u001b[0mis_classifier\u001b[0m\u001b[0;34m(\u001b[0m\u001b[0mestimator\u001b[0m\u001b[0;34m)\u001b[0m\u001b[0;34m)\u001b[0m\u001b[0;34m\u001b[0m\u001b[0;34m\u001b[0m\u001b[0m\n\u001b[0m\u001b[1;32m    929\u001b[0m         \u001b[0mn_splits\u001b[0m \u001b[0;34m=\u001b[0m \u001b[0mcv_orig\u001b[0m\u001b[0;34m.\u001b[0m\u001b[0mget_n_splits\u001b[0m\u001b[0;34m(\u001b[0m\u001b[0mX\u001b[0m\u001b[0;34m,\u001b[0m \u001b[0my\u001b[0m\u001b[0;34m,\u001b[0m \u001b[0;34m**\u001b[0m\u001b[0mrouted_params\u001b[0m\u001b[0;34m.\u001b[0m\u001b[0msplitter\u001b[0m\u001b[0;34m.\u001b[0m\u001b[0msplit\u001b[0m\u001b[0;34m)\u001b[0m\u001b[0;34m\u001b[0m\u001b[0;34m\u001b[0m\u001b[0m\n\u001b[1;32m    930\u001b[0m \u001b[0;34m\u001b[0m\u001b[0m\n",
            "\u001b[0;32m/usr/local/lib/python3.10/dist-packages/sklearn/model_selection/_split.py\u001b[0m in \u001b[0;36mcheck_cv\u001b[0;34m(cv, y, classifier)\u001b[0m\n\u001b[1;32m   2648\u001b[0m             \u001b[0mclassifier\u001b[0m\u001b[0;34m\u001b[0m\u001b[0;34m\u001b[0m\u001b[0m\n\u001b[1;32m   2649\u001b[0m             \u001b[0;32mand\u001b[0m \u001b[0;34m(\u001b[0m\u001b[0my\u001b[0m \u001b[0;32mis\u001b[0m \u001b[0;32mnot\u001b[0m \u001b[0;32mNone\u001b[0m\u001b[0;34m)\u001b[0m\u001b[0;34m\u001b[0m\u001b[0;34m\u001b[0m\u001b[0m\n\u001b[0;32m-> 2650\u001b[0;31m             \u001b[0;32mand\u001b[0m \u001b[0;34m(\u001b[0m\u001b[0mtype_of_target\u001b[0m\u001b[0;34m(\u001b[0m\u001b[0my\u001b[0m\u001b[0;34m,\u001b[0m \u001b[0minput_name\u001b[0m\u001b[0;34m=\u001b[0m\u001b[0;34m\"y\"\u001b[0m\u001b[0;34m)\u001b[0m \u001b[0;32min\u001b[0m \u001b[0;34m(\u001b[0m\u001b[0;34m\"binary\"\u001b[0m\u001b[0;34m,\u001b[0m \u001b[0;34m\"multiclass\"\u001b[0m\u001b[0;34m)\u001b[0m\u001b[0;34m)\u001b[0m\u001b[0;34m\u001b[0m\u001b[0;34m\u001b[0m\u001b[0m\n\u001b[0m\u001b[1;32m   2651\u001b[0m         ):\n\u001b[1;32m   2652\u001b[0m             \u001b[0;32mreturn\u001b[0m \u001b[0mStratifiedKFold\u001b[0m\u001b[0;34m(\u001b[0m\u001b[0mcv\u001b[0m\u001b[0;34m)\u001b[0m\u001b[0;34m\u001b[0m\u001b[0;34m\u001b[0m\u001b[0m\n",
            "\u001b[0;32m/usr/local/lib/python3.10/dist-packages/sklearn/utils/multiclass.py\u001b[0m in \u001b[0;36mtype_of_target\u001b[0;34m(y, input_name)\u001b[0m\n\u001b[1;32m    396\u001b[0m         \u001b[0mdata\u001b[0m \u001b[0;34m=\u001b[0m \u001b[0my\u001b[0m\u001b[0;34m.\u001b[0m\u001b[0mdata\u001b[0m \u001b[0;32mif\u001b[0m \u001b[0missparse\u001b[0m\u001b[0;34m(\u001b[0m\u001b[0my\u001b[0m\u001b[0;34m)\u001b[0m \u001b[0;32melse\u001b[0m \u001b[0my\u001b[0m\u001b[0;34m\u001b[0m\u001b[0;34m\u001b[0m\u001b[0m\n\u001b[1;32m    397\u001b[0m         \u001b[0;32mif\u001b[0m \u001b[0mxp\u001b[0m\u001b[0;34m.\u001b[0m\u001b[0many\u001b[0m\u001b[0;34m(\u001b[0m\u001b[0mdata\u001b[0m \u001b[0;34m!=\u001b[0m \u001b[0mxp\u001b[0m\u001b[0;34m.\u001b[0m\u001b[0mastype\u001b[0m\u001b[0;34m(\u001b[0m\u001b[0mdata\u001b[0m\u001b[0;34m,\u001b[0m \u001b[0mint\u001b[0m\u001b[0;34m)\u001b[0m\u001b[0;34m)\u001b[0m\u001b[0;34m:\u001b[0m\u001b[0;34m\u001b[0m\u001b[0;34m\u001b[0m\u001b[0m\n\u001b[0;32m--> 398\u001b[0;31m             \u001b[0m_assert_all_finite\u001b[0m\u001b[0;34m(\u001b[0m\u001b[0mdata\u001b[0m\u001b[0;34m,\u001b[0m \u001b[0minput_name\u001b[0m\u001b[0;34m=\u001b[0m\u001b[0minput_name\u001b[0m\u001b[0;34m)\u001b[0m\u001b[0;34m\u001b[0m\u001b[0;34m\u001b[0m\u001b[0m\n\u001b[0m\u001b[1;32m    399\u001b[0m             \u001b[0;32mreturn\u001b[0m \u001b[0;34m\"continuous\"\u001b[0m \u001b[0;34m+\u001b[0m \u001b[0msuffix\u001b[0m\u001b[0;34m\u001b[0m\u001b[0;34m\u001b[0m\u001b[0m\n\u001b[1;32m    400\u001b[0m \u001b[0;34m\u001b[0m\u001b[0m\n",
            "\u001b[0;32m/usr/local/lib/python3.10/dist-packages/sklearn/utils/validation.py\u001b[0m in \u001b[0;36m_assert_all_finite\u001b[0;34m(X, allow_nan, msg_dtype, estimator_name, input_name)\u001b[0m\n\u001b[1;32m    121\u001b[0m         \u001b[0;32mreturn\u001b[0m\u001b[0;34m\u001b[0m\u001b[0;34m\u001b[0m\u001b[0m\n\u001b[1;32m    122\u001b[0m \u001b[0;34m\u001b[0m\u001b[0m\n\u001b[0;32m--> 123\u001b[0;31m     _assert_all_finite_element_wise(\n\u001b[0m\u001b[1;32m    124\u001b[0m         \u001b[0mX\u001b[0m\u001b[0;34m,\u001b[0m\u001b[0;34m\u001b[0m\u001b[0;34m\u001b[0m\u001b[0m\n\u001b[1;32m    125\u001b[0m         \u001b[0mxp\u001b[0m\u001b[0;34m=\u001b[0m\u001b[0mxp\u001b[0m\u001b[0;34m,\u001b[0m\u001b[0;34m\u001b[0m\u001b[0;34m\u001b[0m\u001b[0m\n",
            "\u001b[0;32m/usr/local/lib/python3.10/dist-packages/sklearn/utils/validation.py\u001b[0m in \u001b[0;36m_assert_all_finite_element_wise\u001b[0;34m(X, xp, allow_nan, msg_dtype, estimator_name, input_name)\u001b[0m\n\u001b[1;32m    170\u001b[0m                 \u001b[0;34m\"#estimators-that-handle-nan-values\"\u001b[0m\u001b[0;34m\u001b[0m\u001b[0;34m\u001b[0m\u001b[0m\n\u001b[1;32m    171\u001b[0m             )\n\u001b[0;32m--> 172\u001b[0;31m         \u001b[0;32mraise\u001b[0m \u001b[0mValueError\u001b[0m\u001b[0;34m(\u001b[0m\u001b[0mmsg_err\u001b[0m\u001b[0;34m)\u001b[0m\u001b[0;34m\u001b[0m\u001b[0;34m\u001b[0m\u001b[0m\n\u001b[0m\u001b[1;32m    173\u001b[0m \u001b[0;34m\u001b[0m\u001b[0m\n\u001b[1;32m    174\u001b[0m \u001b[0;34m\u001b[0m\u001b[0m\n",
            "\u001b[0;31mValueError\u001b[0m: Input y contains NaN."
          ]
        }
      ]
    },
    {
      "cell_type": "code",
      "source": [
        "# prompt: make a graph for logistic regression\n",
        "\n",
        "from sklearn.metrics import roc_curve, auc\n",
        "\n",
        "# Assuming you have 'y_test' and 'regpred' from the logistic regression model\n",
        "\n",
        "# Get predicted probabilities for the positive class\n",
        "y_probs = best_logreg.predict_proba(x_test)[:, 1]\n",
        "\n",
        "# Calculate the false positive rate (fpr), true positive rate (tpr), and thresholds\n",
        "fpr, tpr, thresholds = roc_curve(y_test, y_probs)\n",
        "\n",
        "# Calculate the area under the ROC curve (AUC)\n",
        "roc_auc = auc(fpr, tpr)\n",
        "\n",
        "# Plot the ROC curve\n",
        "plt.figure(figsize=(8, 6))\n",
        "plt.plot(fpr, tpr, color='darkorange', lw=2, label='ROC curve (area = %0.2f)' % roc_auc)\n",
        "plt.plot([0, 1], [0, 1], color='navy', lw=2, linestyle='--')\n",
        "plt.xlim([0.0, 1.0])\n",
        "plt.ylim([0.0, 1.05])\n",
        "plt.xlabel('False Positive Rate')\n",
        "plt.ylabel('True Positive Rate')\n",
        "plt.title('Receiver Operating Characteristic (ROC)')\n",
        "plt.legend(loc=\"lower right\")\n",
        "plt.show()"
      ],
      "metadata": {
        "id": "BOngZhlW9VUY"
      },
      "execution_count": null,
      "outputs": []
    },
    {
      "cell_type": "code",
      "source": [
        "# prompt: generate a confusion matrix\n",
        "\n",
        "from sklearn.metrics import confusion_matrix\n",
        "import seaborn as sns\n",
        "import matplotlib.pyplot as plt\n",
        "\n",
        "# Assuming you have 'y_test' (true labels) and 'regpred' (predicted labels)\n",
        "# from your logistic regression model\n",
        "\n",
        "# Calculate the confusion matrix\n",
        "cm = confusion_matrix(y_test, regpred)\n",
        "\n",
        "# Create a heatmap for the confusion matrix\n",
        "plt.figure(figsize=(8, 6))\n",
        "sns.heatmap(cm, annot=True, fmt='d', cmap='Blues',\n",
        "            xticklabels=['Approved', 'Rejected'],\n",
        "            yticklabels=['Approved', 'Rejected'])\n",
        "plt.xlabel('Predicted')\n",
        "plt.ylabel('True')\n",
        "plt.title('Confusion Matrix')\n",
        "plt.show()"
      ],
      "metadata": {
        "id": "uWduDYhn804C"
      },
      "execution_count": null,
      "outputs": []
    },
    {
      "cell_type": "code",
      "source": [
        "# prompt: take y_test and turn into df. Show the actual and predicted value of y_test\n",
        "\n",
        "# Create a DataFrame with actual and predicted values\n",
        "df_results = pd.DataFrame({'Actual': y_test, 'Predicted': regpred})\n",
        "\n",
        "# Display the DataFrame\n",
        "df_results"
      ],
      "metadata": {
        "id": "Q9oDZx9qmXGE"
      },
      "execution_count": null,
      "outputs": []
    },
    {
      "cell_type": "markdown",
      "source": [
        "**Decision Tree**"
      ],
      "metadata": {
        "id": "ywqE2Fut3b_z"
      }
    },
    {
      "cell_type": "code",
      "source": [
        "from sklearn import tree\n",
        "dtree = tree.DecisionTreeClassifier()\n",
        "dtree.fit(x_train,y_train)\n",
        "dtreepred = dtree.predict(x_test)\n",
        "\n",
        "print(classification_report(y_test,dtreepred))\n",
        "print(\"Accuracy of Decision Tree is : \",accuracy_score(y_test,dtreepred)*100)"
      ],
      "metadata": {
        "id": "pV7L0SUx1DlK"
      },
      "execution_count": null,
      "outputs": []
    },
    {
      "cell_type": "code",
      "source": [
        "# prompt: take y_test and turn into df. Show the actual and predicted value of y_test\n",
        "\n",
        "# Create a DataFrame with actual and predicted values\n",
        "df_results = pd.DataFrame({'Actual': y_test, 'Predicted': dtreepred})\n",
        "\n",
        "# Display the DataFrame\n",
        "df_results"
      ],
      "metadata": {
        "id": "3TCRK4eSmzqa"
      },
      "execution_count": null,
      "outputs": []
    },
    {
      "cell_type": "code",
      "source": [
        "print(\"Mean Absolute Error : \",mean_absolute_error(y_test,dtreepred))\n",
        "print(\"Mean Squared Error : \",mean_squared_error(y_test,dtreepred))\n",
        "print(\"Root Mean Squared Error : \",np.sqrt(mean_squared_error(y_test,dtreepred)))\n",
        "print(\"R2 Score : \",r2_score(y_test,dtreepred))"
      ],
      "metadata": {
        "id": "d5BNLNWk4ntH"
      },
      "execution_count": null,
      "outputs": []
    },
    {
      "cell_type": "code",
      "source": [
        "# prompt: make a confussion matrix of the same.\n",
        "\n",
        "from sklearn.metrics import confusion_matrix\n",
        "import seaborn as sns\n",
        "import matplotlib.pyplot as plt\n",
        "\n",
        "# Assuming you have 'y_test' and 'regpred' from your logistic regression model\n",
        "# or 'y_test' and 'dtreepred' from your decision tree model\n",
        "\n",
        "# Calculate the confusion matrix\n",
        "cm = confusion_matrix(y_test, regpred)  # Replace 'regpred' with 'dtreepred' for decision tree\n",
        "\n",
        "# Create a heatmap of the confusion matrix\n",
        "plt.figure(figsize=(8, 6))\n",
        "sns.heatmap(cm, annot=True, fmt='d', cmap='Blues',\n",
        "            xticklabels=['Predicted 0', 'Predicted 1'],\n",
        "            yticklabels=['Actual 0', 'Actual 1'])\n",
        "plt.title('Confusion Matrix')\n",
        "plt.xlabel('Predicted Label')\n",
        "plt.ylabel('True Label')\n",
        "plt.show()"
      ],
      "metadata": {
        "id": "8GInzrP1W-FK"
      },
      "execution_count": null,
      "outputs": []
    },
    {
      "cell_type": "markdown",
      "source": [
        "**Random Forest**"
      ],
      "metadata": {
        "id": "uxD2JxxtCgo6"
      }
    },
    {
      "cell_type": "code",
      "source": [
        "# prompt: do random forest\n",
        "\n",
        "import numpy as np\n",
        "from sklearn.ensemble import RandomForestClassifier\n",
        "\n",
        "# Create a Random Forest Classifier\n",
        "rf_classifier = RandomForestClassifier(n_estimators=100, random_state=42)  # You can adjust n_estimators\n",
        "\n",
        "# Train the model\n",
        "rf_classifier.fit(x_train, y_train)\n",
        "\n",
        "# Make predictions on the test set\n",
        "rf_predictions = rf_classifier.predict(x_test)\n",
        "\n",
        "# Evaluate the model\n",
        "print(classification_report(y_test, rf_predictions))\n",
        "print(\"Accuracy of Random Forest is:\", accuracy_score(y_test, rf_predictions) * 100)\n",
        "print(\"Mean Absolute Error:\", mean_absolute_error(y_test, rf_predictions))\n",
        "print(\"Mean Squared Error:\", mean_squared_error(y_test, rf_predictions))\n",
        "print(\"Root Mean Squared Error:\", np.sqrt(mean_squared_error(y_test, rf_predictions)))\n",
        "print(\"R2 Score:\", r2_score(y_test, rf_predictions))\n"
      ],
      "metadata": {
        "id": "tmsyRuZvIjqy"
      },
      "execution_count": null,
      "outputs": []
    },
    {
      "cell_type": "code",
      "source": [
        "# prompt: generate a confusion for random forest classifier\n",
        "\n",
        "# Assuming you have 'y_test' and 'rf_predictions' from your Random Forest model\n",
        "\n",
        "# Calculate the confusion matrix\n",
        "cm = confusion_matrix(y_test, rf_predictions)\n",
        "\n",
        "# Create a heatmap of the confusion matrix\n",
        "plt.figure(figsize=(8, 6))\n",
        "sns.heatmap(cm, annot=True, fmt='d', cmap='Blues',\n",
        "            xticklabels=['Predicted 0', 'Predicted 1'],\n",
        "            yticklabels=['Actual 0', 'Actual 1'])\n",
        "plt.title('Confusion Matrix (Random Forest)')\n",
        "plt.xlabel('Predicted Label')\n",
        "plt.ylabel('True Label')\n",
        "plt.show()"
      ],
      "metadata": {
        "id": "4iu49xBeXyCX"
      },
      "execution_count": null,
      "outputs": []
    },
    {
      "cell_type": "code",
      "source": [
        "# prompt: take y_test and turn into df. Show the actual and predicted value of y_test\n",
        "\n",
        "# Create a DataFrame with actual and predicted values\n",
        "df_results = pd.DataFrame({'Actual': y_test, 'Predicted': rf_predictions})\n",
        "\n",
        "# Display the DataFrame\n",
        "df_results"
      ],
      "metadata": {
        "id": "uDz3IZaknxMb"
      },
      "execution_count": null,
      "outputs": []
    },
    {
      "cell_type": "markdown",
      "source": [
        "KNN"
      ],
      "metadata": {
        "id": "qbSWHMnDW7Hr"
      }
    },
    {
      "cell_type": "code",
      "source": [
        "import numpy as np\n",
        "from sklearn.neighbors import KNeighborsClassifier\n",
        "from sklearn.metrics import classification_report, accuracy_score, mean_absolute_error, mean_squared_error, r2_score\n",
        "from sklearn.preprocessing import StandardScaler\n",
        "\n",
        "# Standardize features (important for KNN)\n",
        "scaler = StandardScaler()\n",
        "x_train_scaled = scaler.fit_transform(x_train)\n",
        "x_test_scaled = scaler.transform(x_test)\n",
        "\n",
        "# Create a K-Nearest Neighbors Classifier\n",
        "knn_classifier = KNeighborsClassifier(n_neighbors=5)  # You can adjust n_neighbors\n",
        "\n",
        "# Train the model\n",
        "knn_classifier.fit(x_train_scaled, y_train)\n",
        "\n",
        "# Make predictions on the test set\n",
        "knn_predictions = knn_classifier.predict(x_test_scaled)\n",
        "\n",
        "# Evaluate the model\n",
        "print(classification_report(y_test, knn_predictions))\n",
        "print(\"Accuracy of KNN is:\", accuracy_score(y_test, knn_predictions) * 100)\n",
        "print(\"Mean Absolute Error:\", mean_absolute_error(y_test, knn_predictions))\n",
        "print(\"Mean Squared Error:\", mean_squared_error(y_test, knn_predictions))\n",
        "print(\"Root Mean Squared Error:\", np.sqrt(mean_squared_error(y_test, knn_predictions)))\n",
        "print(\"R2 Score:\", r2_score(y_test, knn_predictions))\n"
      ],
      "metadata": {
        "id": "fbqR2NP9QiTd"
      },
      "execution_count": null,
      "outputs": []
    },
    {
      "cell_type": "code",
      "source": [],
      "metadata": {
        "id": "cNOswsBIYmNZ"
      },
      "execution_count": null,
      "outputs": []
    },
    {
      "cell_type": "markdown",
      "source": [
        "Ensemmble method\n",
        "\n"
      ],
      "metadata": {
        "id": "xfkB9Kr7HL8E"
      }
    },
    {
      "cell_type": "code",
      "source": [
        "# prompt: Generate with Ensemmble method\n",
        "\n",
        "import numpy as np\n",
        "from sklearn.ensemble import VotingClassifier\n",
        "\n",
        "# Assuming you have already trained your individual models (Logistic Regression, Decision Tree, Random Forest, KNN)\n",
        "\n",
        "# Create a voting classifier with your models\n",
        "voting_classifier = VotingClassifier(estimators=[\n",
        "    ('lr', logreg),  # Logistic Regression\n",
        "    ('dt', dtree),  # Decision Tree\n",
        "    ('rf', rf_classifier),  # Random Forest\n",
        "    ('knn', knn_classifier)  # KNN\n",
        "], voting='hard')  # You can choose 'hard' or 'soft' voting\n",
        "\n",
        "# Train the voting classifier\n",
        "voting_classifier.fit(x_train, y_train)\n",
        "\n",
        "# Make predictions\n",
        "voting_predictions = voting_classifier.predict(x_test)\n",
        "\n",
        "# Evaluate the ensemble model\n",
        "print(classification_report(y_test, voting_predictions))\n",
        "print(\"Accuracy of Ensemble Model (Voting Classifier) is:\", accuracy_score(y_test, voting_predictions) * 100)\n",
        "print(\"Mean Absolute Error:\", mean_absolute_error(y_test, voting_predictions))\n",
        "print(\"Mean Squared Error:\", mean_squared_error(y_test, voting_predictions))\n",
        "print(\"Root Mean Squared Error:\", np.sqrt(mean_squared_error(y_test, voting_predictions)))\n",
        "print(\"R2 Score:\", r2_score(y_test, voting_predictions))\n"
      ],
      "metadata": {
        "id": "CtrMWfQjqPW9"
      },
      "execution_count": null,
      "outputs": []
    },
    {
      "cell_type": "markdown",
      "source": [
        "**Support Vector Machine**"
      ],
      "metadata": {
        "id": "rhMqan_HZANt"
      }
    },
    {
      "cell_type": "markdown",
      "source": [
        "**Kernal=linear**"
      ],
      "metadata": {
        "id": "b3lmpQCYZfLx"
      }
    },
    {
      "cell_type": "code",
      "source": [
        "\n",
        "\n",
        "from sklearn.svm import SVC\n",
        "\n",
        "# Create an SVM classifier\n",
        "svm_classifier = SVC(kernel='linear', C=1)  # You can choose different kernels (linear, rbf, poly) and C values\n",
        "\n",
        "# Train the model\n",
        "svm_classifier.fit(x_train, y_train)\n",
        "\n",
        "# Make predictions on the test set\n",
        "svm_predictions = svm_classifier.predict(x_test)\n",
        "\n",
        "# Evaluate the model\n",
        "print(classification_report(y_test, svm_predictions))\n",
        "print(\"Accuracy of SVM is:\", accuracy_score(y_test, svm_predictions) * 100)\n",
        "\n",
        "print(\"Mean Absolute Error:\", mean_absolute_error(y_test, svm_predictions))\n",
        "print(\"Mean Squared Error:\", mean_squared_error(y_test, svm_predictions))\n",
        "print(\"Root Mean Squared Error:\", np.sqrt(mean_squared_error(y_test, svm_predictions)))\n",
        "print(\"R2 Score:\", r2_score(y_test, svm_predictions))\n",
        "\n"
      ],
      "metadata": {
        "id": "BpryOPbMY_m3"
      },
      "execution_count": null,
      "outputs": []
    },
    {
      "cell_type": "markdown",
      "source": [
        "**Kernal=polynomial**"
      ],
      "metadata": {
        "id": "Spq6Z4keZ22O"
      }
    },
    {
      "cell_type": "code",
      "source": [
        "# prompt: Generate the code for SVM when the kernal is polynimial\n",
        "\n",
        "# Create an SVM classifier with a polynomial kernel\n",
        "svm_poly_classifier = SVC(kernel='poly', degree=3, C=1)  # You can adjust degree and C\n",
        "\n",
        "# Train the model\n",
        "svm_poly_classifier.fit(x_train, y_train)\n",
        "\n",
        "# Make predictions on the test set\n",
        "svm_poly_predictions = svm_poly_classifier.predict(x_test)\n",
        "\n",
        "# Evaluate the model\n",
        "print(classification_report(y_test, svm_poly_predictions))\n",
        "print(\"Accuracy of SVM with polynomial kernel is:\", accuracy_score(y_test, svm_poly_predictions) * 100)\n",
        "print(\"Mean Absolute Error:\", mean_absolute_error(y_test, svm_poly_predictions))\n",
        "print(\"Mean Squared Error:\", mean_squared_error(y_test, svm_poly_predictions))\n",
        "print(\"Root Mean Squared Error:\", np.sqrt(mean_squared_error(y_test, svm_poly_predictions)))\n",
        "print(\"R2 Score:\", r2_score(y_test, svm_poly_predictions))"
      ],
      "metadata": {
        "id": "NDCUu6j7Z_Bl"
      },
      "execution_count": null,
      "outputs": []
    },
    {
      "cell_type": "code",
      "source": [
        "# prompt: Generate the code for SVM when the kernal is polynimial\n",
        "\n",
        "# Create an SVM classifier with a polynomial kernel\n",
        "svm_poly_classifier = SVC(kernel='poly', degree=3, C=2)  # You can adjust degree and C\n",
        "\n",
        "# Train the model\n",
        "svm_poly_classifier.fit(x_train, y_train)\n",
        "\n",
        "# Make predictions on the test set\n",
        "svm_poly_predictions = svm_poly_classifier.predict(x_test)\n",
        "\n",
        "# Evaluate the model\n",
        "print(classification_report(y_test, svm_poly_predictions))\n",
        "print(\"Accuracy of SVM with polynomial kernel is:\", accuracy_score(y_test, svm_poly_predictions) * 100)\n",
        "print(\"Mean Absolute Error:\", mean_absolute_error(y_test, svm_poly_predictions))\n",
        "print(\"Mean Squared Error:\", mean_squared_error(y_test, svm_poly_predictions))\n",
        "print(\"Root Mean Squared Error:\", np.sqrt(mean_squared_error(y_test, svm_poly_predictions)))\n",
        "print(\"R2 Score:\", r2_score(y_test, svm_poly_predictions))"
      ],
      "metadata": {
        "id": "moNmw1w2aUKu"
      },
      "execution_count": null,
      "outputs": []
    },
    {
      "cell_type": "code",
      "source": [
        "# prompt: Generate the code for SVM when the kernal is polynimial\n",
        "\n",
        "# Create an SVM classifier with a polynomial kernel\n",
        "svm_poly_classifier = SVC(kernel='poly', degree=3, C=3)  # You can adjust degree and C\n",
        "\n",
        "# Train the model\n",
        "svm_poly_classifier.fit(x_train, y_train)\n",
        "\n",
        "# Make predictions on the test set\n",
        "svm_poly_predictions = svm_poly_classifier.predict(x_test)\n",
        "\n",
        "# Evaluate the model\n",
        "print(classification_report(y_test, svm_poly_predictions))\n",
        "print(\"Accuracy of SVM with polynomial kernel is:\", accuracy_score(y_test, svm_poly_predictions) * 100)\n",
        "print(\"Mean Absolute Error:\", mean_absolute_error(y_test, svm_poly_predictions))\n",
        "print(\"Mean Squared Error:\", mean_squared_error(y_test, svm_poly_predictions))\n",
        "print(\"Root Mean Squared Error:\", np.sqrt(mean_squared_error(y_test, svm_poly_predictions)))\n",
        "print(\"R2 Score:\", r2_score(y_test, svm_poly_predictions))"
      ],
      "metadata": {
        "id": "GWkmMYbAan2I"
      },
      "execution_count": null,
      "outputs": []
    },
    {
      "cell_type": "code",
      "source": [
        "# prompt: Generate the code for SVM when the kernal is polynimial\n",
        "\n",
        "# Create an SVM classifier with a polynomial kernel\n",
        "svm_poly_classifier = SVC(kernel='poly', degree=3, C=4)  # You can adjust degree and C\n",
        "\n",
        "# Train the model\n",
        "svm_poly_classifier.fit(x_train, y_train)\n",
        "\n",
        "# Make predictions on the test set\n",
        "svm_poly_predictions = svm_poly_classifier.predict(x_test)\n",
        "\n",
        "# Evaluate the model\n",
        "print(classification_report(y_test, svm_poly_predictions))\n",
        "print(\"Accuracy of SVM with polynomial kernel is:\", accuracy_score(y_test, svm_poly_predictions) * 100)\n",
        "print(\"Mean Absolute Error:\", mean_absolute_error(y_test, svm_poly_predictions))\n",
        "print(\"Mean Squared Error:\", mean_squared_error(y_test, svm_poly_predictions))\n",
        "print(\"Root Mean Squared Error:\", np.sqrt(mean_squared_error(y_test, svm_poly_predictions)))\n",
        "print(\"R2 Score:\", r2_score(y_test, svm_poly_predictions))"
      ],
      "metadata": {
        "id": "zS0HaCEgaqcp"
      },
      "execution_count": null,
      "outputs": []
    },
    {
      "cell_type": "code",
      "source": [
        "# prompt: Generate the code for SVM when the kernal is polynimial\n",
        "\n",
        "# Create an SVM classifier with a polynomial kernel\n",
        "svm_poly_classifier = SVC(kernel='poly', degree=3, C=5)  # You can adjust degree and C\n",
        "\n",
        "# Train the model\n",
        "svm_poly_classifier.fit(x_train, y_train)\n",
        "\n",
        "# Make predictions on the test set\n",
        "svm_poly_predictions = svm_poly_classifier.predict(x_test)\n",
        "\n",
        "# Evaluate the model\n",
        "print(classification_report(y_test, svm_poly_predictions))\n",
        "print(\"Accuracy of SVM with polynomial kernel is:\", accuracy_score(y_test, svm_poly_predictions) * 100)\n",
        "print(\"Mean Absolute Error:\", mean_absolute_error(y_test, svm_poly_predictions))\n",
        "print(\"Mean Squared Error:\", mean_squared_error(y_test, svm_poly_predictions))\n",
        "print(\"Root Mean Squared Error:\", np.sqrt(mean_squared_error(y_test, svm_poly_predictions)))\n",
        "print(\"R2 Score:\", r2_score(y_test, svm_poly_predictions))\n",
        "\n",
        "# prompt: take y_test and turn into df. Show the actual and predicted value of y_test\n",
        "\n",
        "# Create a DataFrame with actual and predicted values\n",
        "df_results = pd.DataFrame({'Actual': y_test, 'Predicted': svm_poly_predictions})\n",
        "\n",
        "# Display the DataFrame\n",
        "df_results"
      ],
      "metadata": {
        "id": "xba9LpPPawtq"
      },
      "execution_count": null,
      "outputs": []
    },
    {
      "cell_type": "code",
      "source": [
        "# prompt: Generate a confusion for svm polynomial kernal c=5\n",
        "\n",
        "from sklearn.metrics import confusion_matrix\n",
        "import matplotlib.pyplot as plt\n",
        "import seaborn as sns\n",
        "\n",
        "# Assuming you have 'y_test' and 'svm_poly_predictions' from your SVM with polynomial kernel model\n",
        "\n",
        "# Calculate the confusion matrix\n",
        "cm = confusion_matrix(y_test, svm_poly_predictions)\n",
        "\n",
        "# Create a heatmap of the confusion matrix\n",
        "plt.figure(figsize=(8, 6))\n",
        "sns.heatmap(cm, annot=True, fmt='d', cmap='Blues',\n",
        "            xticklabels=['Predicted 0', 'Predicted 1'],\n",
        "            yticklabels=['Actual 0', 'Actual 1'])\n",
        "plt.title('Confusion Matrix (SVM with Polynomial Kernel)')\n",
        "plt.xlabel('Predicted Label')\n",
        "plt.ylabel('True Label')\n",
        "plt.show()"
      ],
      "metadata": {
        "id": "C1PYbtF8YIRX"
      },
      "execution_count": null,
      "outputs": []
    },
    {
      "cell_type": "code",
      "source": [
        "# prompt: Generate the code for SVM for Gaussian kernal.\n",
        "\n",
        "# SVM with Gaussian (RBF) Kernel\n",
        "\n",
        "# Create an SVM classifier with an RBF kernel\n",
        "svm_rbf_classifier = SVC(kernel='rbf', C=1, gamma='scale')  # You can adjust C and gamma\n",
        "\n",
        "# Train the model\n",
        "svm_rbf_classifier.fit(x_train, y_train)\n",
        "\n",
        "# Make predictions on the test set\n",
        "svm_rbf_predictions = svm_rbf_classifier.predict(x_test)\n",
        "\n",
        "# Evaluate the model\n",
        "print(classification_report(y_test, svm_rbf_predictions))\n",
        "print(\"Accuracy of SVM with RBF kernel is:\", accuracy_score(y_test, svm_rbf_predictions) * 100)\n",
        "print(\"Mean Absolute Error:\", mean_absolute_error(y_test, svm_rbf_predictions))\n",
        "print(\"Mean Squared Error:\", mean_squared_error(y_test, svm_rbf_predictions))\n",
        "print(\"Root Mean Squared Error:\", np.sqrt(mean_squared_error(y_test, svm_rbf_predictions)))\n",
        "print(\"R2 Score:\", r2_score(y_test, svm_rbf_predictions))"
      ],
      "metadata": {
        "id": "UOEYo6xlnJgL"
      },
      "execution_count": null,
      "outputs": []
    },
    {
      "cell_type": "code",
      "source": [
        "# prompt: Generate the graph of SVM with polynimal kernal with c=1,2,3,4,5. Take the axis as Accuracy and R2\\\n",
        "\n",
        "# Assuming you have already calculated accuracy and R2 scores for different C values\n",
        "c_values = [1, 2, 3, 4, 5]\n",
        "accuracies = [91.803,92.74, 93.67, 93.67, 93.91]  # Replace with your actual accuracy scores\n",
        "r2_scores = [0.64, 0.68, 0.72, 0.72, 0.73]  # Replace with your actual R2 scores\n",
        "\n",
        "\n",
        "# Create the plot\n",
        "plt.figure(figsize=(8, 6))\n",
        "plt.plot(c_values, accuracies, marker='o', label='Accuracy')\n",
        "plt.plot(c_values, r2_scores, marker='o', label='R2 Score')\n",
        "\n",
        "plt.xlabel('C Value')\n",
        "plt.ylabel('Performance')\n",
        "plt.title('SVM with Polynomial Kernel: Accuracy and R2 Score vs. C')\n",
        "plt.legend()\n",
        "plt.grid(True)\n",
        "plt.show()"
      ],
      "metadata": {
        "id": "iSMzCYwRa7oC"
      },
      "execution_count": null,
      "outputs": []
    },
    {
      "cell_type": "markdown",
      "source": [
        "**Ridge regression**"
      ],
      "metadata": {
        "id": "yv0ocdj2c2i9"
      }
    },
    {
      "cell_type": "code",
      "source": [
        "# prompt: predict the data using ridge regression with accuracy\n",
        "\n",
        "from sklearn.linear_model import Ridge\n",
        "from sklearn.metrics import mean_squared_error, r2_score\n",
        "\n",
        "# Create a Ridge Regression model\n",
        "ridge_model = Ridge(alpha=1.0)  # You can adjust the alpha value\n",
        "\n",
        "# Train the model\n",
        "ridge_model.fit(x_train, y_train)\n",
        "\n",
        "# Make predictions on the test set\n",
        "ridge_predictions = ridge_model.predict(x_test)\n",
        "\n",
        "# Evaluate the model\n",
        "print(\"Mean Squared Error:\", mean_squared_error(y_test, ridge_predictions))\n",
        "print(\"R2 Score:\", r2_score(y_test, ridge_predictions))\n",
        "\n"
      ],
      "metadata": {
        "id": "ap6OzuSna4U1"
      },
      "execution_count": null,
      "outputs": []
    },
    {
      "cell_type": "markdown",
      "source": [],
      "metadata": {
        "id": "K1N3H2H8Zzok"
      }
    },
    {
      "cell_type": "code",
      "source": [
        "# prompt: Make a table with the accuracy of all the models\n",
        "\n",
        "from tabulate import tabulate\n",
        "\n",
        "data = [\n",
        "    [\"Logistic Regression\", accuracy_score(y_test, regpred) * 100],\n",
        "    [\"Decision Tree\", accuracy_score(y_test, dtreepred) * 100],\n",
        "    [\"Random Forest\", accuracy_score(y_test, rf_predictions) * 100],\n",
        "    [\"KNN\", accuracy_score(y_test, knn_predictions) * 100],\n",
        "    [\"Neural Network\", accuracy_score(y_test, y_pred_nn) * 100],\n",
        "    [\"Ensemble Model\", accuracy_score(y_test, voting_predictions) * 100]\n",
        "]\n",
        "\n",
        "headers = [\"Model\", \"Accuracy (%)\"]\n",
        "\n",
        "table = tabulate(data, headers, tablefmt=\"grid\")\n",
        "print(table)\n"
      ],
      "metadata": {
        "id": "ei-gEH1ptAUQ"
      },
      "execution_count": null,
      "outputs": []
    },
    {
      "cell_type": "markdown",
      "source": [
        "**XGBooste, Ada Booste, Cat Booste**"
      ],
      "metadata": {
        "id": "7CBA9MREU3t8"
      }
    },
    {
      "cell_type": "markdown",
      "source": [
        "**XGBooste**"
      ],
      "metadata": {
        "id": "g5aZi3wAVWZT"
      }
    },
    {
      "cell_type": "code",
      "source": [
        "# prompt: Use the XGBooste algorithm on this\n",
        "\n",
        "from xgboost import XGBClassifier\n",
        "\n",
        "# Create an XGBoost classifier\n",
        "xgb_classifier = XGBClassifier(n_estimators=100, random_state=42)  # You can adjust n_estimators\n",
        "\n",
        "# Train the model\n",
        "xgb_classifier.fit(x_train, y_train)\n",
        "\n",
        "# Make predictions on the test set\n",
        "xgb_predictions = xgb_classifier.predict(x_test)\n",
        "\n",
        "# Evaluate the model\n",
        "print(classification_report(y_test, xgb_predictions))\n",
        "print(\"Accuracy of XGBoost is:\", accuracy_score(y_test, xgb_predictions) * 100)\n",
        "print(\"Mean Absolute Error:\", mean_absolute_error(y_test, xgb_predictions))\n",
        "print(\"Mean Squared Error:\", mean_squared_error(y_test, xgb_predictions))\n",
        "print(\"Root Mean Squared Error:\", np.sqrt(mean_squared_error(y_test, xgb_predictions)))\n",
        "print(\"R2 Score:\", r2_score(y_test, xgb_predictions))\n",
        "\n",
        "# prompt: take y_test and turn into df. Show the actual and predicted value of y_test\n",
        "\n",
        "# Create a DataFrame with actual and predicted values\n",
        "df_results = pd.DataFrame({'Actual': y_test, 'Predicted': xgb_predictions })\n",
        "\n",
        "# Display the DataFrame\n",
        "df_results\n",
        "\n"
      ],
      "metadata": {
        "id": "d2ldHiFnU-oe"
      },
      "execution_count": null,
      "outputs": []
    },
    {
      "cell_type": "code",
      "source": [],
      "metadata": {
        "id": "RdkQolyupM95"
      },
      "execution_count": null,
      "outputs": []
    },
    {
      "cell_type": "markdown",
      "source": [
        "**Ada Booste**"
      ],
      "metadata": {
        "id": "WfX7aLZ_VcVA"
      }
    },
    {
      "cell_type": "code",
      "source": [
        "# prompt: Predict using Ada Booste\n",
        "\n",
        "from sklearn.ensemble import AdaBoostClassifier\n",
        "\n",
        "# Create an AdaBoost classifier\n",
        "ada_classifier = AdaBoostClassifier(n_estimators=100, random_state=42)  # You can adjust n_estimators\n",
        "\n",
        "# Train the model\n",
        "ada_classifier.fit(x_train, y_train)\n",
        "\n",
        "# Make predictions on the test set\n",
        "ada_predictions = ada_classifier.predict(x_test)\n",
        "\n",
        "# Evaluate the model\n",
        "print(classification_report(y_test, ada_predictions))\n",
        "print(\"Accuracy of AdaBoost is:\", accuracy_score(y_test, ada_predictions) * 100)\n",
        "print(\"Mean Absolute Error:\", mean_absolute_error(y_test, ada_predictions))\n",
        "print(\"Mean Squared Error:\", mean_squared_error(y_test, ada_predictions))\n",
        "print(\"Root Mean Squared Error:\", np.sqrt(mean_squared_error(y_test, ada_predictions)))\n",
        "print(\"R2 Score:\", r2_score(y_test, ada_predictions))\n",
        "\n",
        "\n",
        "# prompt: take y_test and turn into df. Show the actual and predicted value of y_test\n",
        "\n",
        "# Create a DataFrame with actual and predicted values\n",
        "df_results = pd.DataFrame({'Actual': y_test, 'Predicted': ada_predictions })\n",
        "\n",
        "# Display the DataFrame\n",
        "df_results\n",
        "\n"
      ],
      "metadata": {
        "id": "9Ic49KWZVbvR"
      },
      "execution_count": null,
      "outputs": []
    },
    {
      "cell_type": "markdown",
      "source": [],
      "metadata": {
        "id": "1vagATjaWUVE"
      }
    },
    {
      "cell_type": "markdown",
      "source": [
        "**Improving the efficiency of NN**"
      ],
      "metadata": {
        "id": "HpQh0R1_WwbM"
      }
    },
    {
      "cell_type": "code",
      "source": [
        "import numpy as np\n",
        "import tensorflow as tf\n",
        "from tensorflow import keras\n",
        "from tensorflow.keras import layers\n",
        "\n",
        "# Define the model\n",
        "model = keras.Sequential([\n",
        "    layers.Dense(64, activation='relu', input_shape=(x_train.shape[1],)),\n",
        "    layers.Dense(32, activation='relu'),\n",
        "    layers.Dense(1, activation='sigmoid')  # Use sigmoid for binary classification\n",
        "])\n",
        "\n",
        "# Compile the model\n",
        "model.compile(optimizer='adam',\n",
        "              loss='binary_crossentropy',\n",
        "              metrics=['accuracy'])\n",
        "\n",
        "# Train the model\n",
        "model.fit(x_train, y_train, epochs=10, batch_size=32)\n",
        "\n",
        "# Evaluate the model\n",
        "loss, accuracy = model.evaluate(x_test, y_test)\n",
        "print('Test accuracy:', accuracy)\n",
        "\n",
        "# Make predictions\n",
        "y_pred_nn = (model.predict(x_test) > 0.5).astype(\"int32\")\n",
        "\n",
        "# Evaluate the model\n",
        "print(classification_report(y_test, y_pred_nn))\n",
        "print(\"Accuracy of Neural Network is:\", accuracy_score(y_test, y_pred_nn) * 100)\n",
        "print(\"Mean Absolute Error:\", mean_absolute_error(y_test, y_pred_nn))\n",
        "print(\"Mean Squared Error:\", mean_squared_error(y_test, y_pred_nn))\n",
        "print(\"Root Mean Squared Error:\", np.sqrt(mean_squared_error(y_test, y_pred_nn)))\n",
        "print(\"R2 Score:\", r2_score(y_test, y_pred_nn))\n"
      ],
      "metadata": {
        "id": "5ZLKq0Uzx2_h"
      },
      "execution_count": null,
      "outputs": []
    },
    {
      "cell_type": "code",
      "source": [
        "import numpy as np\n",
        "import tensorflow as tf\n",
        "from tensorflow import keras\n",
        "from tensorflow.keras import layers\n",
        "from sklearn.preprocessing import StandardScaler\n",
        "from sklearn.metrics import classification_report, accuracy_score, mean_absolute_error, mean_squared_error, r2_score\n",
        "\n",
        "# Scale the data\n",
        "scaler = StandardScaler()\n",
        "x_train = scaler.fit_transform(x_train)\n",
        "x_test = scaler.transform(x_test)\n",
        "\n",
        "# Define the improved model\n",
        "model = keras.Sequential([\n",
        "    layers.Dense(128, activation='relu', input_shape=(x_train.shape[1],)),\n",
        "    layers.BatchNormalization(),\n",
        "    layers.Dropout(0.3),\n",
        "    layers.Dense(64, activation='relu'),\n",
        "    layers.BatchNormalization(),\n",
        "    layers.Dropout(0.3),\n",
        "    layers.Dense(1, activation='sigmoid')  # Correct activation\n",
        "])\n",
        "\n",
        "# Compile the model\n",
        "model.compile(optimizer=keras.optimizers.Adam(learning_rate=0.001),\n",
        "              loss='binary_crossentropy',\n",
        "              metrics=['accuracy'])\n",
        "\n",
        "# Train the model with early stopping\n",
        "early_stopping = keras.callbacks.EarlyStopping(patience=5, restore_best_weights=True)\n",
        "model.fit(x_train, y_train, epochs=50, batch_size=32, callbacks=[early_stopping])\n",
        "\n",
        "# Evaluate the model\n",
        "loss, accuracy = model.evaluate(x_test, y_test)\n",
        "print('Test accuracy:', accuracy)\n",
        "\n",
        "# Make predictions\n",
        "y_pred_nn = (model.predict(x_test) > 0.5).astype(\"int32\")\n",
        "\n",
        "# Evaluate the predictions\n",
        "print(classification_report(y_test, y_pred_nn))\n",
        "print(\"Accuracy of Neural Network is:\", accuracy_score(y_test, y_pred_nn) * 100)\n",
        "print(\"Mean Absolute Error:\", mean_absolute_error(y_test, y_pred_nn))\n",
        "print(\"Mean Squared Error:\", mean_squared_error(y_test, y_pred_nn))\n",
        "print(\"Root Mean Squared Error:\", np.sqrt(mean_squared_error(y_test, y_pred_nn)))\n",
        "print(\"R2 Score:\", r2_score(y_test, y_pred_nn))\n"
      ],
      "metadata": {
        "id": "eOy1yde8p-xx"
      },
      "execution_count": null,
      "outputs": []
    },
    {
      "cell_type": "markdown",
      "source": [
        "The results and comparison from the two implementations demonstrate that **increasing the number of neurons, adding regularization layers (BatchNormalization, Dropout), and improving the training strategy (e.g., using early stopping)** significantly enhance the model's performance.\n",
        "\n",
        "---\n",
        "\n",
        "### **Comparison of the Two Models**\n",
        "\n",
        "| Metric                   | Initial Model                          | Improved Model                         | Change |\n",
        "|--------------------------|-----------------------------------------|----------------------------------------|--------|\n",
        "| **Accuracy**             | 92.97%                                 | 97.07%                                | **+4.1%** |\n",
        "| **Mean Absolute Error**  | 0.0703                                 | 0.0293                                | **Decreased** |\n",
        "| **Mean Squared Error**   | 0.0703                                 | 0.0293                                | **Decreased** |\n",
        "| **Root Mean Squared Error** | 0.2651                              | 0.1711                                | **Decreased** |\n",
        "| **R² Score**             | 0.6994                                 | 0.8747                                | **Improved by 0.175** |\n",
        "\n",
        "---\n",
        "\n",
        "### **Key Observations**\n",
        "\n",
        "1. **Effect of Increasing Neurons**:\n",
        "   - The improved model has more neurons in the layers (**128 and 64** compared to **64 and 32** in the initial model).\n",
        "   - This increase improves the model's capacity to capture complex patterns in the data, resulting in higher accuracy and better error metrics.\n",
        "\n",
        "2. **Regularization Layers**:\n",
        "   - Adding **BatchNormalization** helps stabilize learning by normalizing layer outputs.\n",
        "   - **Dropout** reduces overfitting by randomly deactivating neurons during training, enabling better generalization.\n",
        "\n",
        "3. **Learning Strategy**:\n",
        "   - **Early Stopping** in the improved model prevents overfitting by halting training when performance stops improving, leading to better test accuracy and error metrics.\n",
        "\n",
        "4. **Improved Metrics**:\n",
        "   - The **accuracy improvement (92.97% → 97.07%)** shows the improved model's better ability to predict correctly.\n",
        "   - The significant decrease in **MSE and RMSE** indicates fewer large errors in predictions.\n",
        "   - The increase in the **R² score (0.699 → 0.875)** shows the improved model can explain more variance in the target variable.\n",
        "\n",
        "---\n",
        "\n",
        "### **Conclusion**\n",
        "- **Increasing the number of neurons**, along with **regularization layers** and a more robust training strategy, significantly improves the performance of the neural network.\n",
        "- **Larger models** (with appropriate regularization) are better at capturing complex relationships in the data, leading to higher accuracy and better error metrics.\n",
        "- However, it’s essential to balance model size with the available data to avoid overfitting, especially with smaller datasets.\n",
        "\n"
      ],
      "metadata": {
        "id": "YtBuzxz-Zths"
      }
    },
    {
      "cell_type": "code",
      "source": [
        "import numpy as np\n",
        "import tensorflow as tf\n",
        "from tensorflow import keras\n",
        "from tensorflow.keras import layers\n",
        "from sklearn.preprocessing import StandardScaler\n",
        "from sklearn.metrics import classification_report, accuracy_score, mean_absolute_error, mean_squared_error, r2_score\n",
        "\n",
        "# Scale the data\n",
        "scaler = StandardScaler()\n",
        "x_train = scaler.fit_transform(x_train)\n",
        "x_test = scaler.transform(x_test)\n",
        "\n",
        "# Define the improved model\n",
        "model = keras.Sequential([\n",
        "    layers.Dense(128, activation='relu', input_shape=(x_train.shape[1],)),\n",
        "    layers.BatchNormalization(),\n",
        "    layers.Dropout(0.3),\n",
        "    layers.Dense(64, activation='relu'),\n",
        "    layers.BatchNormalization(),\n",
        "    layers.Dropout(0.3),\n",
        "    layers.Dense(1, activation='tanh')  # Correct activation\n",
        "])\n",
        "\n",
        "# Compile the model\n",
        "model.compile(optimizer=keras.optimizers.Adam(learning_rate=0.001),\n",
        "              loss='binary_crossentropy',\n",
        "              metrics=['accuracy'])\n",
        "\n",
        "# Train the model with early stopping\n",
        "early_stopping = keras.callbacks.EarlyStopping(patience=5, restore_best_weights=True)\n",
        "model.fit(x_train, y_train, epochs=50, batch_size=32, callbacks=[early_stopping])\n",
        "\n",
        "# Evaluate the model\n",
        "loss, accuracy = model.evaluate(x_test, y_test)\n",
        "print('Test accuracy:', accuracy)\n",
        "\n",
        "# Make predictions\n",
        "y_pred_nn = (model.predict(x_test) > 0.5).astype(\"int32\")\n",
        "\n",
        "# Evaluate the predictions\n",
        "print(classification_report(y_test, y_pred_nn))\n",
        "print(\"Accuracy of Neural Network is:\", accuracy_score(y_test, y_pred_nn) * 100)\n",
        "print(\"Mean Absolute Error:\", mean_absolute_error(y_test, y_pred_nn))\n",
        "print(\"Mean Squared Error:\", mean_squared_error(y_test, y_pred_nn))\n",
        "print(\"Root Mean Squared Error:\", np.sqrt(mean_squared_error(y_test, y_pred_nn)))\n",
        "print(\"R2 Score:\", r2_score(y_test, y_pred_nn))\n"
      ],
      "metadata": {
        "id": "3TZy-a8faxda"
      },
      "execution_count": null,
      "outputs": []
    }
  ]
}